{
 "cells": [
  {
   "cell_type": "markdown",
   "metadata": {},
   "source": [
    "#  Decision Tree on Google PlayStore Apps "
   ]
  },
  {
   "cell_type": "markdown",
   "metadata": {},
   "source": [
    "这次我想通过使用决策树对 __[Kaggle 的 Google PlayStore 应用数据集](https://www.kaggle.com/lava18/google-play-store-apps)__ 进行分析，希望找出与应用__安装量__密切相关的因素，也是希望在工作上对我所在的海外部门的应用市场数据增长起到一定作用。"
   ]
  },
  {
   "cell_type": "markdown",
   "metadata": {},
   "source": [
    "## 初始化"
   ]
  },
  {
   "cell_type": "code",
   "execution_count": 1,
   "metadata": {},
   "outputs": [
    {
     "data": {
      "text/html": [
       "<script type=\"text/javascript\">window.PlotlyConfig = {MathJaxConfig: 'local'};</script><script type=\"text/javascript\">if (window.MathJax) {MathJax.Hub.Config({SVG: {font: \"STIX-Web\"}});}</script><script>requirejs.config({paths: { 'plotly': ['https://cdn.plot.ly/plotly-latest.min']},});if(!window._Plotly) {require(['plotly'],function(plotly) {window._Plotly=plotly;});}</script>"
      ],
      "text/vnd.plotly.v1+html": [
       "<script type=\"text/javascript\">window.PlotlyConfig = {MathJaxConfig: 'local'};</script><script type=\"text/javascript\">if (window.MathJax) {MathJax.Hub.Config({SVG: {font: \"STIX-Web\"}});}</script><script>requirejs.config({paths: { 'plotly': ['https://cdn.plot.ly/plotly-latest.min']},});if(!window._Plotly) {require(['plotly'],function(plotly) {window._Plotly=plotly;});}</script>"
      ]
     },
     "metadata": {},
     "output_type": "display_data"
    }
   ],
   "source": [
    "import numpy as np\n",
    "import pandas as pd\n",
    "import matplotlib.pyplot as plt\n",
    "import seaborn as sns\n",
    "\n",
    "import matplotlib.pyplot as plt\n",
    "import plotly.offline as py\n",
    "py.init_notebook_mode(connected=True)\n",
    "import plotly.graph_objs as go\n",
    "\n",
    "import warnings\n",
    "warnings.filterwarnings('ignore')\n",
    "from pylab import rcParams\n",
    "\n",
    "from sklearn import preprocessing\n",
    "from sklearn.model_selection import train_test_split\n",
    "from sklearn import tree\n",
    "from sklearn.ensemble import RandomForestClassifier\n",
    "from sklearn.metrics import make_scorer, accuracy_score\n",
    "from sklearn.model_selection import GridSearchCV\n",
    "from sklearn.ensemble import AdaBoostClassifier\n",
    "\n",
    "%matplotlib inline"
   ]
  },
  {
   "cell_type": "markdown",
   "metadata": {},
   "source": [
    "## 数据集初探"
   ]
  },
  {
   "cell_type": "code",
   "execution_count": 2,
   "metadata": {},
   "outputs": [
    {
     "name": "stdout",
     "output_type": "stream",
     "text": [
      "Number of apps in the dataset :  10841\n"
     ]
    },
    {
     "data": {
      "text/html": [
       "<div>\n",
       "<style scoped>\n",
       "    .dataframe tbody tr th:only-of-type {\n",
       "        vertical-align: middle;\n",
       "    }\n",
       "\n",
       "    .dataframe tbody tr th {\n",
       "        vertical-align: top;\n",
       "    }\n",
       "\n",
       "    .dataframe thead th {\n",
       "        text-align: right;\n",
       "    }\n",
       "</style>\n",
       "<table border=\"1\" class=\"dataframe\">\n",
       "  <thead>\n",
       "    <tr style=\"text-align: right;\">\n",
       "      <th></th>\n",
       "      <th>App</th>\n",
       "      <th>Category</th>\n",
       "      <th>Rating</th>\n",
       "      <th>Reviews</th>\n",
       "      <th>Size</th>\n",
       "      <th>Installs</th>\n",
       "      <th>Type</th>\n",
       "      <th>Price</th>\n",
       "      <th>Content Rating</th>\n",
       "      <th>Genres</th>\n",
       "      <th>Last Updated</th>\n",
       "      <th>Current Ver</th>\n",
       "      <th>Android Ver</th>\n",
       "    </tr>\n",
       "  </thead>\n",
       "  <tbody>\n",
       "    <tr>\n",
       "      <th>3941</th>\n",
       "      <td>Bible</td>\n",
       "      <td>BOOKS_AND_REFERENCE</td>\n",
       "      <td>4.7</td>\n",
       "      <td>2440695</td>\n",
       "      <td>Varies with device</td>\n",
       "      <td>100,000,000+</td>\n",
       "      <td>Free</td>\n",
       "      <td>0</td>\n",
       "      <td>Teen</td>\n",
       "      <td>Books &amp; Reference</td>\n",
       "      <td>August 2, 2018</td>\n",
       "      <td>Varies with device</td>\n",
       "      <td>Varies with device</td>\n",
       "    </tr>\n",
       "    <tr>\n",
       "      <th>7404</th>\n",
       "      <td>SimCity BuildIt</td>\n",
       "      <td>FAMILY</td>\n",
       "      <td>4.5</td>\n",
       "      <td>4218587</td>\n",
       "      <td>100M</td>\n",
       "      <td>50,000,000+</td>\n",
       "      <td>Free</td>\n",
       "      <td>0</td>\n",
       "      <td>Everyone 10+</td>\n",
       "      <td>Simulation</td>\n",
       "      <td>June 19, 2018</td>\n",
       "      <td>1.23.3.75024</td>\n",
       "      <td>4.0 and up</td>\n",
       "    </tr>\n",
       "    <tr>\n",
       "      <th>7066</th>\n",
       "      <td>Sniper Gun Shot 3D: Impossible Missions</td>\n",
       "      <td>GAME</td>\n",
       "      <td>4.6</td>\n",
       "      <td>20</td>\n",
       "      <td>34M</td>\n",
       "      <td>100+</td>\n",
       "      <td>Free</td>\n",
       "      <td>0</td>\n",
       "      <td>Mature 17+</td>\n",
       "      <td>Action</td>\n",
       "      <td>May 4, 2018</td>\n",
       "      <td>1.0</td>\n",
       "      <td>4.0 and up</td>\n",
       "    </tr>\n",
       "    <tr>\n",
       "      <th>3744</th>\n",
       "      <td>Sky News</td>\n",
       "      <td>NEWS_AND_MAGAZINES</td>\n",
       "      <td>4.0</td>\n",
       "      <td>30287</td>\n",
       "      <td>19M</td>\n",
       "      <td>1,000,000+</td>\n",
       "      <td>Free</td>\n",
       "      <td>0</td>\n",
       "      <td>Everyone 10+</td>\n",
       "      <td>News &amp; Magazines</td>\n",
       "      <td>August 3, 2018</td>\n",
       "      <td>4.11.0.611033</td>\n",
       "      <td>4.1 and up</td>\n",
       "    </tr>\n",
       "    <tr>\n",
       "      <th>2493</th>\n",
       "      <td>Youper - AI Therapy</td>\n",
       "      <td>MEDICAL</td>\n",
       "      <td>4.6</td>\n",
       "      <td>2014</td>\n",
       "      <td>69M</td>\n",
       "      <td>50,000+</td>\n",
       "      <td>Free</td>\n",
       "      <td>0</td>\n",
       "      <td>Everyone</td>\n",
       "      <td>Medical</td>\n",
       "      <td>August 3, 2018</td>\n",
       "      <td>6.02.000</td>\n",
       "      <td>6.0 and up</td>\n",
       "    </tr>\n",
       "    <tr>\n",
       "      <th>3598</th>\n",
       "      <td>Family GPS Tracker and Chat + Baby Monitor Online</td>\n",
       "      <td>PARENTING</td>\n",
       "      <td>4.4</td>\n",
       "      <td>9073</td>\n",
       "      <td>Varies with device</td>\n",
       "      <td>500,000+</td>\n",
       "      <td>Free</td>\n",
       "      <td>0</td>\n",
       "      <td>Everyone</td>\n",
       "      <td>Parenting</td>\n",
       "      <td>August 2, 2018</td>\n",
       "      <td>Varies with device</td>\n",
       "      <td>4.2 and up</td>\n",
       "    </tr>\n",
       "    <tr>\n",
       "      <th>2564</th>\n",
       "      <td>Web Browser &amp; Fast Explorer</td>\n",
       "      <td>SOCIAL</td>\n",
       "      <td>4.4</td>\n",
       "      <td>54768</td>\n",
       "      <td>2.6M</td>\n",
       "      <td>5,000,000+</td>\n",
       "      <td>Free</td>\n",
       "      <td>0</td>\n",
       "      <td>Everyone</td>\n",
       "      <td>Social</td>\n",
       "      <td>May 16, 2018</td>\n",
       "      <td>3.6.1</td>\n",
       "      <td>4.0.3 and up</td>\n",
       "    </tr>\n",
       "    <tr>\n",
       "      <th>2103</th>\n",
       "      <td>Pony Friends 🦄 - Beepzz racing game for kids</td>\n",
       "      <td>FAMILY</td>\n",
       "      <td>4.5</td>\n",
       "      <td>114</td>\n",
       "      <td>69M</td>\n",
       "      <td>50,000+</td>\n",
       "      <td>Free</td>\n",
       "      <td>0</td>\n",
       "      <td>Everyone</td>\n",
       "      <td>Racing;Action &amp; Adventure</td>\n",
       "      <td>June 13, 2018</td>\n",
       "      <td>1.4.3</td>\n",
       "      <td>4.2 and up</td>\n",
       "    </tr>\n",
       "    <tr>\n",
       "      <th>4519</th>\n",
       "      <td>Q Operator</td>\n",
       "      <td>BUSINESS</td>\n",
       "      <td>4.6</td>\n",
       "      <td>60</td>\n",
       "      <td>Varies with device</td>\n",
       "      <td>1,000+</td>\n",
       "      <td>Free</td>\n",
       "      <td>0</td>\n",
       "      <td>Everyone</td>\n",
       "      <td>Business</td>\n",
       "      <td>November 8, 2016</td>\n",
       "      <td>1.10.4</td>\n",
       "      <td>4.3 and up</td>\n",
       "    </tr>\n",
       "    <tr>\n",
       "      <th>7197</th>\n",
       "      <td>CEHQ - CE Credits for Nurses</td>\n",
       "      <td>FAMILY</td>\n",
       "      <td>4.5</td>\n",
       "      <td>12</td>\n",
       "      <td>4.0M</td>\n",
       "      <td>1,000+</td>\n",
       "      <td>Free</td>\n",
       "      <td>0</td>\n",
       "      <td>Everyone</td>\n",
       "      <td>Education</td>\n",
       "      <td>May 25, 2018</td>\n",
       "      <td>3.0.18</td>\n",
       "      <td>5.0 and up</td>\n",
       "    </tr>\n",
       "  </tbody>\n",
       "</table>\n",
       "</div>"
      ],
      "text/plain": [
       "                                                    App             Category  \\\n",
       "3941                                              Bible  BOOKS_AND_REFERENCE   \n",
       "7404                                    SimCity BuildIt               FAMILY   \n",
       "7066            Sniper Gun Shot 3D: Impossible Missions                 GAME   \n",
       "3744                                           Sky News   NEWS_AND_MAGAZINES   \n",
       "2493                                Youper - AI Therapy              MEDICAL   \n",
       "3598  Family GPS Tracker and Chat + Baby Monitor Online            PARENTING   \n",
       "2564                        Web Browser & Fast Explorer               SOCIAL   \n",
       "2103       Pony Friends 🦄 - Beepzz racing game for kids               FAMILY   \n",
       "4519                                         Q Operator             BUSINESS   \n",
       "7197                       CEHQ - CE Credits for Nurses               FAMILY   \n",
       "\n",
       "      Rating  Reviews                Size      Installs  Type Price  \\\n",
       "3941     4.7  2440695  Varies with device  100,000,000+  Free     0   \n",
       "7404     4.5  4218587                100M   50,000,000+  Free     0   \n",
       "7066     4.6       20                 34M          100+  Free     0   \n",
       "3744     4.0    30287                 19M    1,000,000+  Free     0   \n",
       "2493     4.6     2014                 69M       50,000+  Free     0   \n",
       "3598     4.4     9073  Varies with device      500,000+  Free     0   \n",
       "2564     4.4    54768                2.6M    5,000,000+  Free     0   \n",
       "2103     4.5      114                 69M       50,000+  Free     0   \n",
       "4519     4.6       60  Varies with device        1,000+  Free     0   \n",
       "7197     4.5       12                4.0M        1,000+  Free     0   \n",
       "\n",
       "     Content Rating                     Genres      Last Updated  \\\n",
       "3941           Teen          Books & Reference    August 2, 2018   \n",
       "7404   Everyone 10+                 Simulation     June 19, 2018   \n",
       "7066     Mature 17+                     Action       May 4, 2018   \n",
       "3744   Everyone 10+           News & Magazines    August 3, 2018   \n",
       "2493       Everyone                    Medical    August 3, 2018   \n",
       "3598       Everyone                  Parenting    August 2, 2018   \n",
       "2564       Everyone                     Social      May 16, 2018   \n",
       "2103       Everyone  Racing;Action & Adventure     June 13, 2018   \n",
       "4519       Everyone                   Business  November 8, 2016   \n",
       "7197       Everyone                  Education      May 25, 2018   \n",
       "\n",
       "             Current Ver         Android Ver  \n",
       "3941  Varies with device  Varies with device  \n",
       "7404        1.23.3.75024          4.0 and up  \n",
       "7066                 1.0          4.0 and up  \n",
       "3744       4.11.0.611033          4.1 and up  \n",
       "2493            6.02.000          6.0 and up  \n",
       "3598  Varies with device          4.2 and up  \n",
       "2564               3.6.1        4.0.3 and up  \n",
       "2103               1.4.3          4.2 and up  \n",
       "4519              1.10.4          4.3 and up  \n",
       "7197              3.0.18          5.0 and up  "
      ]
     },
     "execution_count": 2,
     "metadata": {},
     "output_type": "execute_result"
    }
   ],
   "source": [
    "df = pd.read_csv('data/googleplaystore.csv')\n",
    "print('Number of apps in the dataset : ' , len(df))\n",
    "df.sample(10)"
   ]
  },
  {
   "cell_type": "markdown",
   "metadata": {},
   "source": [
    "\n",
    "可以看出数据集里对每一个应用共有 13 种属性的定义，根据 Title 就能很直观的明白其意义。\n",
    "这里我将**安装量**(*Installs*)作为目标，希望找到 App 的其他信息与其的对应关系。"
   ]
  },
  {
   "cell_type": "markdown",
   "metadata": {},
   "source": [
    "## 数据预处理"
   ]
  },
  {
   "cell_type": "code",
   "execution_count": 3,
   "metadata": {},
   "outputs": [
    {
     "name": "stdout",
     "output_type": "stream",
     "text": [
      "<class 'pandas.core.frame.DataFrame'>\n",
      "RangeIndex: 10841 entries, 0 to 10840\n",
      "Data columns (total 13 columns):\n",
      "App               10841 non-null object\n",
      "Category          10841 non-null object\n",
      "Rating            9367 non-null float64\n",
      "Reviews           10841 non-null object\n",
      "Size              10841 non-null object\n",
      "Installs          10841 non-null object\n",
      "Type              10840 non-null object\n",
      "Price             10841 non-null object\n",
      "Content Rating    10840 non-null object\n",
      "Genres            10841 non-null object\n",
      "Last Updated      10841 non-null object\n",
      "Current Ver       10833 non-null object\n",
      "Android Ver       10838 non-null object\n",
      "dtypes: float64(1), object(12)\n",
      "memory usage: 1.1+ MB\n"
     ]
    }
   ],
   "source": [
    "# 打印某个属性的分布信息\n",
    "def printInfos(feature):\n",
    "    print( len(df[feature].unique()) , feature)\n",
    "    print(\"\\n\", df[feature].unique())\n",
    "    \n",
    "    \n",
    "# 打印整个表格的基本信息\n",
    "df.info()"
   ]
  },
  {
   "cell_type": "markdown",
   "metadata": {},
   "source": [
    "可以看出数据里还是有一些属性为空的条目，处理这些空字段有几种方法，\n",
    "比如，可以直接移除含有空字段的条目，但考虑到缺失的占比不小，直接删除会对数据的数量造成影响，所以这里采取了取**中位数补齐**的方式。"
   ]
  },
  {
   "cell_type": "code",
   "execution_count": 4,
   "metadata": {},
   "outputs": [
    {
     "name": "stdout",
     "output_type": "stream",
     "text": [
      "40 Rating\n",
      "\n",
      " [ 4.1  3.9  4.7  4.5  4.3  4.4  3.8  4.2  4.6  3.2  4.   4.8  4.9  3.6\n",
      "  3.7  3.3  3.4  3.5  3.1  5.   2.6  3.   1.9  2.5  2.8  2.7  1.   2.9\n",
      "  2.3  2.2  1.7  2.   1.8  2.4  1.6  2.1  1.4  1.5  1.2 19. ]\n"
     ]
    }
   ],
   "source": [
    "df['Rating'] = df['Rating'].fillna(df['Rating'].median())\n",
    "printInfos('Rating')"
   ]
  },
  {
   "cell_type": "markdown",
   "metadata": {},
   "source": [
    "我们知道一个 App 的 Rating 值应该在 1 - 5之间，最后出现的 19.0 的值是错误的"
   ]
  },
  {
   "cell_type": "code",
   "execution_count": 5,
   "metadata": {},
   "outputs": [
    {
     "name": "stdout",
     "output_type": "stream",
     "text": [
      "                                           App Category  Rating Reviews  \\\n",
      "10472  Life Made WI-Fi Touchscreen Photo Frame      1.9    19.0    3.0M   \n",
      "\n",
      "         Size Installs Type     Price Content Rating             Genres  \\\n",
      "10472  1,000+     Free    0  Everyone            NaN  February 11, 2018   \n",
      "\n",
      "      Last Updated Current Ver Android Ver  \n",
      "10472       1.0.19  4.0 and up         NaN  \n"
     ]
    }
   ],
   "source": [
    "index = df[df['Rating'] == 19.].index\n",
    "print(df.loc[index])"
   ]
  },
  {
   "cell_type": "markdown",
   "metadata": {},
   "source": [
    "可以看出这条数据的分类也非常奇怪的是一个数字，所以我打算丢弃这条有多处明显错误信息的数据"
   ]
  },
  {
   "cell_type": "code",
   "execution_count": 6,
   "metadata": {},
   "outputs": [
    {
     "name": "stdout",
     "output_type": "stream",
     "text": [
      "39 Rating\n",
      "\n",
      " [4.1 3.9 4.7 4.5 4.3 4.4 3.8 4.2 4.6 3.2 4.  4.8 4.9 3.6 3.7 3.3 3.4 3.5\n",
      " 3.1 5.  2.6 3.  1.9 2.5 2.8 2.7 1.  2.9 2.3 2.2 1.7 2.  1.8 2.4 1.6 2.1\n",
      " 1.4 1.5 1.2]\n"
     ]
    },
    {
     "data": {
      "image/png": "[encoded data removed]",
      "text/plain": [
       "<Figure size 432x288 with 1 Axes>"
      ]
     },
     "metadata": {
      "needs_background": "light"
     },
     "output_type": "display_data"
    }
   ],
   "source": [
    "df = df.drop(index)\n",
    "printInfos('Rating')\n",
    "\n",
    "def visualFeatureCounting(feature):\n",
    "    g = sns.countplot(x=feature,data=df, palette = \"Set1\")\n",
    "    g.set_xticklabels(g.get_xticklabels(), rotation=90, ha=\"right\")\n",
    "    g\n",
    "    plt.title('Count of app in each ' + feature, size = 20)\n",
    "    \n",
    "    \n",
    "visualFeatureCounting('Rating')"
   ]
  },
  {
   "cell_type": "markdown",
   "metadata": {},
   "source": [
    "如上述统计信息所示，删除该条数据后，Rating 分布已经正常"
   ]
  },
  {
   "cell_type": "markdown",
   "metadata": {},
   "source": [
    "剩下的属性里缺失字段的数量都在个位数级别，故这里直接将含有空值的条目丢弃。"
   ]
  },
  {
   "cell_type": "code",
   "execution_count": 7,
   "metadata": {},
   "outputs": [],
   "source": [
    "# Removing NaN values\n",
    "df = df[pd.notnull(df['Last Updated'])]\n",
    "df = df[pd.notnull(df['Content Rating'])]"
   ]
  },
  {
   "cell_type": "code",
   "execution_count": 8,
   "metadata": {},
   "outputs": [
    {
     "name": "stdout",
     "output_type": "stream",
     "text": [
      "<class 'pandas.core.frame.DataFrame'>\n",
      "Int64Index: 10840 entries, 0 to 10840\n",
      "Data columns (total 13 columns):\n",
      "App               10840 non-null object\n",
      "Category          10840 non-null object\n",
      "Rating            10840 non-null float64\n",
      "Reviews           10840 non-null object\n",
      "Size              10840 non-null object\n",
      "Installs          10840 non-null object\n",
      "Type              10839 non-null object\n",
      "Price             10840 non-null object\n",
      "Content Rating    10840 non-null object\n",
      "Genres            10840 non-null object\n",
      "Last Updated      10840 non-null object\n",
      "Current Ver       10832 non-null object\n",
      "Android Ver       10838 non-null object\n",
      "dtypes: float64(1), object(12)\n",
      "memory usage: 1.2+ MB\n"
     ]
    }
   ],
   "source": [
    "df.info()"
   ]
  },
  {
   "cell_type": "markdown",
   "metadata": {},
   "source": [
    "因为用来区分 App 收费与否的 Type 属性可以完全用 Price 属性表示，所以这里我们选择丢弃这个属性，\n",
    "此外，个人认为下载量与 App 当前的版本属性 Current Ver 关系不大，以及表示多重分类的 Genres 属性跟主分类 Category 冲突。\n",
    "所以在之后的 Feature 选取中都不会考虑这些属性（丢弃）。"
   ]
  },
  {
   "cell_type": "markdown",
   "metadata": {},
   "source": [
    "## Categorical Data Encoding\n",
    "\n",
    "在应用到决策树算法之前，我们需要将属性值数值化，将连续的数值转为离散的可分类的。"
   ]
  },
  {
   "cell_type": "markdown",
   "metadata": {},
   "source": [
    "#### 将内容评级的文本表示转化为数字，数字越高代表限制级别越高"
   ]
  },
  {
   "cell_type": "code",
   "execution_count": 9,
   "metadata": {},
   "outputs": [
    {
     "name": "stdout",
     "output_type": "stream",
     "text": [
      "6 Content Rating\n",
      "\n",
      " ['Everyone' 'Teen' 'Everyone 10+' 'Mature 17+' 'Adults only 18+' 'Unrated']\n"
     ]
    }
   ],
   "source": [
    "printInfos('Content Rating')"
   ]
  },
  {
   "cell_type": "code",
   "execution_count": 10,
   "metadata": {},
   "outputs": [
    {
     "name": "stdout",
     "output_type": "stream",
     "text": [
      "5 Content Rating\n",
      "\n",
      " [0 1 2 3 4]\n"
     ]
    }
   ],
   "source": [
    "def map_content_rating(content_rating):\n",
    "    if 'Teen' in content_rating:\n",
    "        return 1\n",
    "    elif 'Everyone 10+' in content_rating:\n",
    "        return 2\n",
    "    elif 'Mature 17+' in content_rating:\n",
    "        return 3\n",
    "    elif 'Adults only 18+' in content_rating:\n",
    "        return 4\n",
    "    else:\n",
    "        return 0\n",
    "\n",
    "    \n",
    "# Encode Content Rating features\n",
    "df['Content Rating'] = df['Content Rating'].map(map_content_rating)\n",
    "printInfos('Content Rating')"
   ]
  },
  {
   "cell_type": "markdown",
   "metadata": {},
   "source": [
    "#### 将用户 Review 数以 10 个数量级为单位划分"
   ]
  },
  {
   "cell_type": "code",
   "execution_count": 11,
   "metadata": {},
   "outputs": [],
   "source": [
    "def map_reviews(number):\n",
    "    number = int(number)\n",
    "    if number < 10:\n",
    "        return 1\n",
    "    elif number < 100:\n",
    "        return 2\n",
    "    elif number < 1000:\n",
    "        return 3\n",
    "    elif number < 10000:\n",
    "        return 4\n",
    "    elif number < 100000:\n",
    "        return 5\n",
    "    elif number < 1000000:\n",
    "        return 6\n",
    "    elif number < 10000000:\n",
    "        return 7\n",
    "    else:\n",
    "        return 8"
   ]
  },
  {
   "cell_type": "code",
   "execution_count": 12,
   "metadata": {},
   "outputs": [
    {
     "name": "stdout",
     "output_type": "stream",
     "text": [
      "8 Reviews\n",
      "\n",
      " [3 5 6 4 2 1 7 8]\n"
     ]
    },
    {
     "data": {
      "image/png": "[encoded data removed]",
      "text/plain": [
       "<Figure size 432x288 with 1 Axes>"
      ]
     },
     "metadata": {
      "needs_background": "light"
     },
     "output_type": "display_data"
    }
   ],
   "source": [
    "df['Reviews'] = df['Reviews'].map(map_reviews)\n",
    "\n",
    "printInfos('Reviews')\n",
    "\n",
    "visualFeatureCounting('Reviews')"
   ]
  },
  {
   "cell_type": "markdown",
   "metadata": {},
   "source": [
    "#### 将 App 大小以 M 为单位划分"
   ]
  },
  {
   "cell_type": "code",
   "execution_count": 13,
   "metadata": {},
   "outputs": [
    {
     "name": "stdout",
     "output_type": "stream",
     "text": [
      "7 Size\n",
      "\n",
      " [3 2 4 1 0 5 6]\n"
     ]
    },
    {
     "data": {
      "image/png": "[encoded data removed]",
      "text/plain": [
       "<Figure size 432x288 with 1 Axes>"
      ]
     },
     "metadata": {
      "needs_background": "light"
     },
     "output_type": "display_data"
    }
   ],
   "source": [
    "def map_size(size):\n",
    "    if 'M' in size:\n",
    "        x = float(size[:-1])\n",
    "        if x < 5.0:\n",
    "            return 1\n",
    "        elif x < 10.0:\n",
    "            return 2\n",
    "        elif x < 20.0:\n",
    "            return 3\n",
    "        elif x < 50.0:\n",
    "            return 4\n",
    "        elif x < 100.0:\n",
    "            return 5\n",
    "        else:\n",
    "            return 6\n",
    "    else:\n",
    "        return 0\n",
    "\n",
    "    \n",
    "df['Size'] = df['Size'].map(map_size)\n",
    "\n",
    "printInfos('Size')\n",
    "\n",
    "visualFeatureCounting('Size')"
   ]
  },
  {
   "cell_type": "markdown",
   "metadata": {},
   "source": [
    "#### 将应用对 Android 版本的最低要求也同样由文本转为正确的数值"
   ]
  },
  {
   "cell_type": "code",
   "execution_count": 14,
   "metadata": {},
   "outputs": [
    {
     "name": "stdout",
     "output_type": "stream",
     "text": [
      "34 Android Ver\n",
      "\n",
      " ['4.0.3 and up' '4.2 and up' '4.4 and up' '2.3 and up' '3.0 and up'\n",
      " '4.1 and up' '4.0 and up' '2.3.3 and up' 'Varies with device'\n",
      " '2.2 and up' '5.0 and up' '6.0 and up' '1.6 and up' '1.5 and up'\n",
      " '2.1 and up' '7.0 and up' '5.1 and up' '4.3 and up' '4.0.3 - 7.1.1'\n",
      " '2.0 and up' '3.2 and up' '4.4W and up' '7.1 and up' '7.0 - 7.1.1'\n",
      " '8.0 and up' '5.0 - 8.0' '3.1 and up' '2.0.1 and up' '4.1 - 7.1.1' nan\n",
      " '5.0 - 6.0' '1.0 and up' '2.2 - 7.1.1' '5.0 - 7.1.1']\n"
     ]
    }
   ],
   "source": [
    "printInfos('Android Ver')"
   ]
  },
  {
   "cell_type": "code",
   "execution_count": 15,
   "metadata": {},
   "outputs": [
    {
     "name": "stdout",
     "output_type": "stream",
     "text": [
      "9 Android Ver\n",
      "\n",
      " [4 2 3 0 5 6 1 7 8]\n"
     ]
    },
    {
     "data": {
      "image/png": "[encoded data removed]",
      "text/plain": [
       "<Figure size 432x288 with 1 Axes>"
      ]
     },
     "metadata": {
      "needs_background": "light"
     },
     "output_type": "display_data"
    }
   ],
   "source": [
    "def map_version(version):\n",
    "    version = str(version)\n",
    "    if version.startswith(\"1.\"):\n",
    "        return 1\n",
    "    elif version.startswith(\"2.\"):\n",
    "        return 2\n",
    "    elif version.startswith(\"3.\"):\n",
    "        return 3\n",
    "    elif version.startswith(\"4.\"):\n",
    "        return 4\n",
    "    elif version.startswith(\"5.\"):\n",
    "        return 5\n",
    "    elif version.startswith(\"6.\"):\n",
    "        return 6\n",
    "    elif version.startswith(\"7.\"):\n",
    "        return 7\n",
    "    elif version.startswith(\"8.\"):\n",
    "        return 8\n",
    "    else:\n",
    "        return 0\n",
    "\n",
    "    \n",
    "df['Android Ver'] = df['Android Ver'].map(map_version)\n",
    "\n",
    "printInfos('Android Ver')\n",
    "visualFeatureCounting('Android Ver')"
   ]
  },
  {
   "cell_type": "markdown",
   "metadata": {},
   "source": [
    "#### 剩下一些属性值的通用处理"
   ]
  },
  {
   "cell_type": "code",
   "execution_count": 16,
   "metadata": {},
   "outputs": [],
   "source": [
    "# get_dummies creates a new dataframe which consists of zeros and ones\n",
    "df['App'] = pd.get_dummies(df['App'])\n",
    "df['Last Updated'] = pd.get_dummies(df['Last Updated'])\n",
    "\n",
    "# Encode Category features\n",
    "le = preprocessing.LabelEncoder()\n",
    "df['Category'] = le.fit_transform(df['Category'])\n",
    "\n",
    "# Price cealning\n",
    "df['Price'] = df['Price'].apply(lambda x : x.strip('$'))\n"
   ]
  },
  {
   "cell_type": "markdown",
   "metadata": {},
   "source": [
    "#### 作为检测目标的安装数 Installs 的处理\n",
    "这里只分了 百万级、千万级和其他 3个分类"
   ]
  },
  {
   "cell_type": "code",
   "execution_count": 17,
   "metadata": {},
   "outputs": [
    {
     "name": "stdout",
     "output_type": "stream",
     "text": [
      "3 Installs\n",
      "\n",
      " [0 1 2]\n"
     ]
    },
    {
     "data": {
      "image/png": "[encoded data removed]",
      "text/plain": [
       "<Figure size 432x288 with 1 Axes>"
      ]
     },
     "metadata": {
      "needs_background": "light"
     },
     "output_type": "display_data"
    }
   ],
   "source": [
    "def map_installs(number):\n",
    "    number = int(number)\n",
    "    if number < 1000000:\n",
    "        return 0\n",
    "    elif number < 10000000:\n",
    "        return 1\n",
    "    else:\n",
    "        return 2\n",
    "\n",
    "    \n",
    "# Installs cealning\n",
    "df['Installs'] = df['Installs'].apply(lambda x : x.strip('+').replace(',', ''))\n",
    "df['Installs'] = df['Installs'].map(map_installs)\n",
    "\n",
    "printInfos('Installs')\n",
    "\n",
    "visualFeatureCounting('Installs')"
   ]
  },
  {
   "cell_type": "markdown",
   "metadata": {},
   "source": [
    "根据之前的分析，这里忽略 'Type', 'Current Ver', 'Genres'  这几个特征值对结果的影响"
   ]
  },
  {
   "cell_type": "markdown",
   "metadata": {},
   "source": [
    "#### 生成数据集以及训练、测试集的划分"
   ]
  },
  {
   "cell_type": "code",
   "execution_count": 18,
   "metadata": {},
   "outputs": [],
   "source": [
    "X_all = df.drop(['Installs', 'Type', 'Current Ver', 'Genres'], axis=1)\n",
    "y_all = df['Installs']\n",
    "\n",
    "X_train, X_test, y_train, y_test = train_test_split(X_all, y_all, test_size=0.20, random_state=10)"
   ]
  },
  {
   "cell_type": "markdown",
   "metadata": {},
   "source": [
    "### 使用决策树预测分类"
   ]
  },
  {
   "cell_type": "markdown",
   "metadata": {},
   "source": [
    "这里使用决策树分类器的默认设置，\n",
    "对应的分类标准是  Gini impurity 算法 - 相对 Information gain 有更快的计算速度<br>\n",
    "策略采用的 best 最优而非随机最优<br>\n",
    "没有设定最大深度，min_samples_split = 2，  min_samples_leaf = 1， <br>\n",
    "max_features = 处理后非 label 的所有特征"
   ]
  },
  {
   "cell_type": "code",
   "execution_count": 19,
   "metadata": {},
   "outputs": [
    {
     "name": "stdout",
     "output_type": "stream",
     "text": [
      "0.8685424354243543\n"
     ]
    }
   ],
   "source": [
    "clf = tree.DecisionTreeClassifier()\n",
    "clf.fit(X_train, y_train)\n",
    "\n",
    "\n",
    "predictions = clf.predict(X_test)\n",
    "print(accuracy_score(y_test, predictions))"
   ]
  },
  {
   "cell_type": "markdown",
   "metadata": {},
   "source": [
    "### 使用 RandomForest 计算"
   ]
  },
  {
   "cell_type": "code",
   "execution_count": 20,
   "metadata": {},
   "outputs": [
    {
     "data": {
      "text/plain": [
       "RandomForestClassifier(bootstrap=True, class_weight=None, criterion='gini',\n",
       "            max_depth=5, max_features='auto', max_leaf_nodes=None,\n",
       "            min_impurity_decrease=0.0, min_impurity_split=None,\n",
       "            min_samples_leaf=1, min_samples_split=3,\n",
       "            min_weight_fraction_leaf=0.0, n_estimators=9, n_jobs=None,\n",
       "            oob_score=False, random_state=None, verbose=0,\n",
       "            warm_start=False)"
      ]
     },
     "execution_count": 20,
     "metadata": {},
     "output_type": "execute_result"
    }
   ],
   "source": [
    "# Choose the type of classifier. \n",
    "clf = RandomForestClassifier()\n",
    "\n",
    "# Choose some parameter combinations to try\n",
    "parameters = {'n_estimators': [4, 6, 9], \n",
    "              'max_features': ['log2', 'sqrt','auto'], \n",
    "              'criterion': ['entropy', 'gini'],\n",
    "              'max_depth': [2, 3, 5, 10], \n",
    "              'min_samples_split': [2, 3, 5],\n",
    "              'min_samples_leaf': [1,5,8]\n",
    "             }\n",
    "\n",
    "# Type of scoring used to compare parameter combinations\n",
    "acc_scorer = make_scorer(accuracy_score)\n",
    "\n",
    "# Run the grid search\n",
    "grid_obj = GridSearchCV(clf, parameters, scoring=acc_scorer)\n",
    "grid_obj = grid_obj.fit(X_train, y_train)\n",
    "\n",
    "# Set the clf to the best combination of parameters\n",
    "clf = grid_obj.best_estimator_\n",
    "\n",
    "# Fit the best algorithm to the data. \n",
    "clf.fit(X_train, y_train)"
   ]
  },
  {
   "cell_type": "markdown",
   "metadata": {},
   "source": [
    "这里通过 GridSearchCV 将排列组合的方式试用算法参数并最终选择一个最优的参数组合来最终计算 <br>\n",
    "可以看出相比 DT，准确率上升了一些。"
   ]
  },
  {
   "cell_type": "code",
   "execution_count": 21,
   "metadata": {},
   "outputs": [
    {
     "name": "stdout",
     "output_type": "stream",
     "text": [
      "0.8925276752767528\n"
     ]
    }
   ],
   "source": [
    "predictions = clf.predict(X_test)\n",
    "print(accuracy_score(y_test, predictions))"
   ]
  },
  {
   "cell_type": "markdown",
   "metadata": {},
   "source": [
    "### AdaBoost"
   ]
  },
  {
   "cell_type": "code",
   "execution_count": 22,
   "metadata": {},
   "outputs": [
    {
     "data": {
      "text/plain": [
       "AdaBoostClassifier(algorithm='SAMME', base_estimator=None, learning_rate=1.0,\n",
       "          n_estimators=4, random_state=None)"
      ]
     },
     "execution_count": 22,
     "metadata": {},
     "output_type": "execute_result"
    }
   ],
   "source": [
    "clf = AdaBoostClassifier(n_estimators=100)\n",
    "\n",
    "# Choose some parameter combinations to try\n",
    "parameters = {'n_estimators': [4, 6, 9],\n",
    "             'algorithm' : ['SAMME', 'SAMME.R']}\n",
    "\n",
    "# Type of scoring used to compare parameter combinations\n",
    "acc_scorer = make_scorer(accuracy_score)\n",
    "\n",
    "# Run the grid search\n",
    "grid_obj = GridSearchCV(clf, parameters, scoring=acc_scorer)\n",
    "grid_obj = grid_obj.fit(X_train, y_train)\n",
    "\n",
    "# Set the clf to the best combination of parameters\n",
    "clf = grid_obj.best_estimator_\n",
    "\n",
    "# Fit the best algorithm to the data. \n",
    "clf.fit(X_train, y_train)"
   ]
  },
  {
   "cell_type": "code",
   "execution_count": 23,
   "metadata": {},
   "outputs": [
    {
     "name": "stdout",
     "output_type": "stream",
     "text": [
      "0.889760147601476\n"
     ]
    }
   ],
   "source": [
    "predictions = clf.predict(X_test)\n",
    "print(accuracy_score(y_test, predictions))"
   ]
  },
  {
   "cell_type": "markdown",
   "metadata": {},
   "source": [
    "### 感想\n",
    "通过决策树系列的计算与预测，可以推论出一个 App 在应用市场的下载量与其基本信息有着密切的关系，将来我们可以通过优化 Apk 的大小，提升用户评分等方式提升下载量实现增长。<br>\n",
    "在实验中，一开始没有将下载的预测分类做简化处理，而是直接按市场的分类划分为 10 几个，运算结果非常糟糕，只有 50% 左右。\n",
    "后来发现相比数据的预处理以及 结合实际场景的 **Categorical Data Encoding**，缩减 label 的分类对结果的影响有显著提升，如果只按千万下载量划分，准确率更会提升到 90%+，这是否意味着决策树更适合预测结果分类相对较少的场景呢？"
   ]
  },
  {
   "cell_type": "code",
   "execution_count": null,
   "metadata": {},
   "outputs": [],
   "source": []
  }
 ],
 "metadata": {
  "kernelspec": {
   "display_name": "Python 3",
   "language": "python",
   "name": "python3"
  },
  "language_info": {
   "codemirror_mode": {
    "name": "ipython",
    "version": 3
   },
   "file_extension": ".py",
   "mimetype": "text/x-python",
   "name": "python",
   "nbconvert_exporter": "python",
   "pygments_lexer": "ipython3",
   "version": "3.6.6"
  }
 },
 "nbformat": 4,
 "nbformat_minor": 2
}
