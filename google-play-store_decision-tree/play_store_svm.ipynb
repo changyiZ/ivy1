{
 "cells": [
  {
   "cell_type": "markdown",
   "metadata": {},
   "source": [
    "# SVM on Google PlayStore Apps "
   ]
  },
  {
   "cell_type": "markdown",
   "metadata": {},
   "source": [
    "在上次的[作业](https://github.com/changyiZ/ivy1/blob/master/google-play-store_decision-tree/google_play_store_apps.ipynb)中，我应用决策树 **Decision Tree** 对 Google PlayStore 的数据集进行分析，<br>\n",
    "目标是想根据 App 的基本信息对其下载量进行预测，按百万、千万级分类最终准确率在 86 - 89% 之间。"
   ]
  },
  {
   "cell_type": "markdown",
   "metadata": {},
   "source": [
    "这次作业中，我会通过 SVM 算法做对比，看看效率和准确率有什么变化，并尝试分析其原因。"
   ]
  },
  {
   "cell_type": "code",
   "execution_count": null,
   "metadata": {},
   "outputs": [],
   "source": []
  }
 ],
 "metadata": {
  "kernelspec": {
   "display_name": "Python 3",
   "language": "python",
   "name": "python3"
  },
  "language_info": {
   "codemirror_mode": {
    "name": "ipython",
    "version": 3
   },
   "file_extension": ".py",
   "mimetype": "text/x-python",
   "name": "python",
   "nbconvert_exporter": "python",
   "pygments_lexer": "ipython3",
   "version": "3.6.6"
  }
 },
 "nbformat": 4,
 "nbformat_minor": 2
}
