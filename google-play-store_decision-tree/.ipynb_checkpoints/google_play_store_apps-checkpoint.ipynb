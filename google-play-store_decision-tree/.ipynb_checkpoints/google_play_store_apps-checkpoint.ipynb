{
 "cells": [
  {
   "cell_type": "markdown",
   "metadata": {},
   "source": [
    "#  Decision Tree on Google PlayStore Apps "
   ]
  },
  {
   "cell_type": "markdown",
   "metadata": {},
   "source": [
    "这次我想通过使用决策树对 __[Kaggle 的 Google PlayStore 应用数据集](https://www.kaggle.com/lava18/google-play-store-apps)__ 进行分析，希望找出与应用__安装量__密切相关的因素，也是希望在工作上对我所在的海外部门的应用市场数据增长起到一定作用。"
   ]
  },
  {
   "cell_type": "markdown",
   "metadata": {},
   "source": [
    "## 初始化"
   ]
  },
  {
   "cell_type": "code",
   "execution_count": 23,
   "metadata": {},
   "outputs": [
    {
     "ename": "ModuleNotFoundError",
     "evalue": "No module named 'plotly'",
     "output_type": "error",
     "traceback": [
      "\u001b[0;31m---------------------------------------------------------------------------\u001b[0m",
      "\u001b[0;31mModuleNotFoundError\u001b[0m                       Traceback (most recent call last)",
      "\u001b[0;32m<ipython-input-23-b048cf2b4512>\u001b[0m in \u001b[0;36m<module>\u001b[0;34m()\u001b[0m\n\u001b[1;32m      5\u001b[0m \u001b[0;34m\u001b[0m\u001b[0m\n\u001b[1;32m      6\u001b[0m \u001b[0;32mimport\u001b[0m \u001b[0mmatplotlib\u001b[0m\u001b[0;34m.\u001b[0m\u001b[0mpyplot\u001b[0m \u001b[0;32mas\u001b[0m \u001b[0mplt\u001b[0m\u001b[0;34m\u001b[0m\u001b[0m\n\u001b[0;32m----> 7\u001b[0;31m \u001b[0;32mimport\u001b[0m \u001b[0mplotly\u001b[0m\u001b[0;34m.\u001b[0m\u001b[0moffline\u001b[0m \u001b[0;32mas\u001b[0m \u001b[0mpy\u001b[0m\u001b[0;34m\u001b[0m\u001b[0m\n\u001b[0m\u001b[1;32m      8\u001b[0m \u001b[0mpy\u001b[0m\u001b[0;34m.\u001b[0m\u001b[0minit_notebook_mode\u001b[0m\u001b[0;34m(\u001b[0m\u001b[0mconnected\u001b[0m\u001b[0;34m=\u001b[0m\u001b[0;32mTrue\u001b[0m\u001b[0;34m)\u001b[0m\u001b[0;34m\u001b[0m\u001b[0m\n\u001b[1;32m      9\u001b[0m \u001b[0;32mimport\u001b[0m \u001b[0mplotly\u001b[0m\u001b[0;34m.\u001b[0m\u001b[0mgraph_objs\u001b[0m \u001b[0;32mas\u001b[0m \u001b[0mgo\u001b[0m\u001b[0;34m\u001b[0m\u001b[0m\n",
      "\u001b[0;31mModuleNotFoundError\u001b[0m: No module named 'plotly'"
     ]
    }
   ],
   "source": [
    "import numpy as np # linear algebra\n",
    "import pandas as pd # data processing, CSV file I/O (e.g. pd.read_csv)\n",
    "import matplotlib.pyplot as plt # this is used for the plot the graph \n",
    "import seaborn as sns # used for plot interactive graph.\n",
    "\n",
    "import matplotlib.pyplot as plt\n",
    "import plotly.offline as py\n",
    "py.init_notebook_mode(connected=True)\n",
    "import plotly.graph_objs as go\n",
    "\n",
    "import warnings\n",
    "warnings.filterwarnings('ignore')\n",
    "from pylab import rcParams\n",
    "# figure size in inches\n",
    "\n",
    "%matplotlib inline"
   ]
  },
  {
   "cell_type": "markdown",
   "metadata": {},
   "source": [
    "## 数据集初探"
   ]
  },
  {
   "cell_type": "code",
   "execution_count": 13,
   "metadata": {},
   "outputs": [
    {
     "name": "stdout",
     "output_type": "stream",
     "text": [
      "Number of apps in the dataset :  10841\n"
     ]
    },
    {
     "data": {
      "text/html": [
       "<div>\n",
       "<style scoped>\n",
       "    .dataframe tbody tr th:only-of-type {\n",
       "        vertical-align: middle;\n",
       "    }\n",
       "\n",
       "    .dataframe tbody tr th {\n",
       "        vertical-align: top;\n",
       "    }\n",
       "\n",
       "    .dataframe thead th {\n",
       "        text-align: right;\n",
       "    }\n",
       "</style>\n",
       "<table border=\"1\" class=\"dataframe\">\n",
       "  <thead>\n",
       "    <tr style=\"text-align: right;\">\n",
       "      <th></th>\n",
       "      <th>App</th>\n",
       "      <th>Category</th>\n",
       "      <th>Rating</th>\n",
       "      <th>Reviews</th>\n",
       "      <th>Size</th>\n",
       "      <th>Installs</th>\n",
       "      <th>Type</th>\n",
       "      <th>Price</th>\n",
       "      <th>Content Rating</th>\n",
       "      <th>Genres</th>\n",
       "      <th>Last Updated</th>\n",
       "      <th>Current Ver</th>\n",
       "      <th>Android Ver</th>\n",
       "    </tr>\n",
       "  </thead>\n",
       "  <tbody>\n",
       "    <tr>\n",
       "      <th>2225</th>\n",
       "      <td>Frozen Free Fall</td>\n",
       "      <td>FAMILY</td>\n",
       "      <td>4.3</td>\n",
       "      <td>1574204</td>\n",
       "      <td>37M</td>\n",
       "      <td>50,000,000+</td>\n",
       "      <td>Free</td>\n",
       "      <td>0</td>\n",
       "      <td>Everyone</td>\n",
       "      <td>Puzzle;Action &amp; Adventure</td>\n",
       "      <td>July 27, 2018</td>\n",
       "      <td>6.7.0</td>\n",
       "      <td>4.2 and up</td>\n",
       "    </tr>\n",
       "    <tr>\n",
       "      <th>10653</th>\n",
       "      <td>Jigsaw Puzzles FN FAL Light Automatic Rifle</td>\n",
       "      <td>FAMILY</td>\n",
       "      <td>NaN</td>\n",
       "      <td>0</td>\n",
       "      <td>5.6M</td>\n",
       "      <td>50+</td>\n",
       "      <td>Free</td>\n",
       "      <td>0</td>\n",
       "      <td>Teen</td>\n",
       "      <td>Puzzle</td>\n",
       "      <td>May 7, 2018</td>\n",
       "      <td>1.0</td>\n",
       "      <td>4.0.3 and up</td>\n",
       "    </tr>\n",
       "    <tr>\n",
       "      <th>3961</th>\n",
       "      <td>B.GOOD</td>\n",
       "      <td>FOOD_AND_DRINK</td>\n",
       "      <td>2.9</td>\n",
       "      <td>155</td>\n",
       "      <td>20M</td>\n",
       "      <td>10,000+</td>\n",
       "      <td>Free</td>\n",
       "      <td>0</td>\n",
       "      <td>Everyone</td>\n",
       "      <td>Food &amp; Drink</td>\n",
       "      <td>April 4, 2018</td>\n",
       "      <td>4.94.19</td>\n",
       "      <td>4.1 and up</td>\n",
       "    </tr>\n",
       "    <tr>\n",
       "      <th>3810</th>\n",
       "      <td>JailBase - Arrests + Mugshots</td>\n",
       "      <td>NEWS_AND_MAGAZINES</td>\n",
       "      <td>4.0</td>\n",
       "      <td>17240</td>\n",
       "      <td>Varies with device</td>\n",
       "      <td>1,000,000+</td>\n",
       "      <td>Free</td>\n",
       "      <td>0</td>\n",
       "      <td>Everyone 10+</td>\n",
       "      <td>News &amp; Magazines</td>\n",
       "      <td>August 3, 2018</td>\n",
       "      <td>Varies with device</td>\n",
       "      <td>4.1 and up</td>\n",
       "    </tr>\n",
       "    <tr>\n",
       "      <th>1056</th>\n",
       "      <td>CASHIER</td>\n",
       "      <td>FINANCE</td>\n",
       "      <td>3.3</td>\n",
       "      <td>335738</td>\n",
       "      <td>Varies with device</td>\n",
       "      <td>10,000,000+</td>\n",
       "      <td>Free</td>\n",
       "      <td>0</td>\n",
       "      <td>Everyone</td>\n",
       "      <td>Finance</td>\n",
       "      <td>May 3, 2018</td>\n",
       "      <td>Varies with device</td>\n",
       "      <td>Varies with device</td>\n",
       "    </tr>\n",
       "    <tr>\n",
       "      <th>1618</th>\n",
       "      <td>Brit + Co</td>\n",
       "      <td>LIFESTYLE</td>\n",
       "      <td>3.9</td>\n",
       "      <td>987</td>\n",
       "      <td>4.5M</td>\n",
       "      <td>10,000+</td>\n",
       "      <td>Free</td>\n",
       "      <td>0</td>\n",
       "      <td>Everyone</td>\n",
       "      <td>Lifestyle</td>\n",
       "      <td>August 29, 2017</td>\n",
       "      <td>2.0.4</td>\n",
       "      <td>4.0 and up</td>\n",
       "    </tr>\n",
       "    <tr>\n",
       "      <th>1978</th>\n",
       "      <td>Earn to Die 2</td>\n",
       "      <td>GAME</td>\n",
       "      <td>4.6</td>\n",
       "      <td>1327269</td>\n",
       "      <td>99M</td>\n",
       "      <td>50,000,000+</td>\n",
       "      <td>Free</td>\n",
       "      <td>0</td>\n",
       "      <td>Teen</td>\n",
       "      <td>Racing</td>\n",
       "      <td>April 12, 2017</td>\n",
       "      <td>1.3</td>\n",
       "      <td>2.3.3 and up</td>\n",
       "    </tr>\n",
       "  </tbody>\n",
       "</table>\n",
       "</div>"
      ],
      "text/plain": [
       "                                               App            Category  \\\n",
       "2225                              Frozen Free Fall              FAMILY   \n",
       "10653  Jigsaw Puzzles FN FAL Light Automatic Rifle              FAMILY   \n",
       "3961                                        B.GOOD      FOOD_AND_DRINK   \n",
       "3810                 JailBase - Arrests + Mugshots  NEWS_AND_MAGAZINES   \n",
       "1056                                       CASHIER             FINANCE   \n",
       "1618                                     Brit + Co           LIFESTYLE   \n",
       "1978                                 Earn to Die 2                GAME   \n",
       "\n",
       "       Rating  Reviews                Size     Installs  Type Price  \\\n",
       "2225      4.3  1574204                 37M  50,000,000+  Free     0   \n",
       "10653     NaN        0                5.6M          50+  Free     0   \n",
       "3961      2.9      155                 20M      10,000+  Free     0   \n",
       "3810      4.0    17240  Varies with device   1,000,000+  Free     0   \n",
       "1056      3.3   335738  Varies with device  10,000,000+  Free     0   \n",
       "1618      3.9      987                4.5M      10,000+  Free     0   \n",
       "1978      4.6  1327269                 99M  50,000,000+  Free     0   \n",
       "\n",
       "      Content Rating                     Genres     Last Updated  \\\n",
       "2225        Everyone  Puzzle;Action & Adventure    July 27, 2018   \n",
       "10653           Teen                     Puzzle      May 7, 2018   \n",
       "3961        Everyone               Food & Drink    April 4, 2018   \n",
       "3810    Everyone 10+           News & Magazines   August 3, 2018   \n",
       "1056        Everyone                    Finance      May 3, 2018   \n",
       "1618        Everyone                  Lifestyle  August 29, 2017   \n",
       "1978            Teen                     Racing   April 12, 2017   \n",
       "\n",
       "              Current Ver         Android Ver  \n",
       "2225                6.7.0          4.2 and up  \n",
       "10653                 1.0        4.0.3 and up  \n",
       "3961              4.94.19          4.1 and up  \n",
       "3810   Varies with device          4.1 and up  \n",
       "1056   Varies with device  Varies with device  \n",
       "1618                2.0.4          4.0 and up  \n",
       "1978                  1.3        2.3.3 and up  "
      ]
     },
     "execution_count": 13,
     "metadata": {},
     "output_type": "execute_result"
    }
   ],
   "source": [
    "df = pd.read_csv('data/googleplaystore.csv')\n",
    "print('Number of apps in the dataset : ' , len(df))\n",
    "df.sample(7)"
   ]
  },
  {
   "cell_type": "markdown",
   "metadata": {},
   "source": [
    "\n",
    "可以看出数据集里对每一个应用共有 13 种属性的定义，根据 Title 就能很直观的明白其意义。\n",
    "这里我将**安装量**(*Installs*)作为我们的目标，为了实现分类，可以将安装的数量按一定的数据区间分类：\n",
    "\n",
    "| **安装量**         | **Label**         | \n",
    "| ------------- |---------------| \n",
    "| 0 - 1000    | 1 | \n",
    "| 1000 - 5000      | 2      |  \n",
    "| 5000 - 10k | 3      |\n",
    "| 10k - 50k | 4      | \n",
    "| 50k - 100k | 5      | \n",
    "| 100k - 500k | 6      | \n",
    "| 500k - 1m | 7      | \n",
    "| 1m - 5m | 8      | \n",
    "| 5m - 10m | 9      | \n",
    "| 10m - 50m | 10      | \n",
    "| 50m+ | 11      | \n",
    "\n",
    "考虑到目前我们海外版的应用安装量在 5 milliions 数量级，所以这里代表最高安装量的分类暂定为 50m+（个人觉得已经是个非常高的界限了）"
   ]
  },
  {
   "cell_type": "markdown",
   "metadata": {},
   "source": [
    "## 数据预处理"
   ]
  },
  {
   "cell_type": "code",
   "execution_count": 14,
   "metadata": {},
   "outputs": [
    {
     "name": "stdout",
     "output_type": "stream",
     "text": [
      "22 Installs\n",
      "\n",
      " ['10,000+' '500,000+' '5,000,000+' '50,000,000+' '100,000+' '50,000+'\n",
      " '1,000,000+' '10,000,000+' '5,000+' '100,000,000+' '1,000,000,000+'\n",
      " '1,000+' '500,000,000+' '50+' '100+' '500+' '10+' '1+' '5+' '0+' '0'\n",
      " 'Free']\n"
     ]
    }
   ],
   "source": [
    "print( len(df['Installs'].unique()) , \"Installs\")\n",
    "print(\"\\n\", df['Installs'].unique())"
   ]
  },
  {
   "cell_type": "code",
   "execution_count": 15,
   "metadata": {},
   "outputs": [
    {
     "name": "stdout",
     "output_type": "stream",
     "text": [
      "20 Installs\n",
      "\n",
      " [     10000     500000    5000000   50000000     100000      50000\n",
      "    1000000   10000000       5000  100000000 1000000000       1000\n",
      "  500000000         50        100        500         10          1\n",
      "          5          0]\n"
     ]
    }
   ],
   "source": [
    "# - Installs : Remove + and ,\n",
    "\n",
    "df = df[df['Installs'] != 'Free']\n",
    "df['Installs'] = df['Installs'].apply(lambda x: x.replace('+', '') if '+' in str(x) else x)\n",
    "df['Installs'] = df['Installs'].apply(lambda x: x.replace(',', '') if ',' in str(x) else x)\n",
    "df['Installs'] = df['Installs'].apply(lambda x: int(x))\n",
    "print( len(df['Installs'].unique()) , \"Installs\")\n",
    "print(\"\\n\", df['Installs'].unique())"
   ]
  },
  {
   "cell_type": "code",
   "execution_count": null,
   "metadata": {},
   "outputs": [],
   "source": [
    "data = [go.Histogram(\n",
    "        x = df.Rating,\n",
    "        xbins = {'start': 1, 'size': 0.1, 'end' :5}\n",
    ")]\n",
    "\n",
    "print('Average app rating = ', np.mean(df['Rating']))\n",
    "plotly.offline.iplot(data, filename='overall_rating_distribution')"
   ]
  }
 ],
 "metadata": {
  "kernelspec": {
   "display_name": "Python 3",
   "language": "python",
   "name": "python3"
  },
  "language_info": {
   "codemirror_mode": {
    "name": "ipython",
    "version": 3
   },
   "file_extension": ".py",
   "mimetype": "text/x-python",
   "name": "python",
   "nbconvert_exporter": "python",
   "pygments_lexer": "ipython3",
   "version": "3.7.0"
  }
 },
 "nbformat": 4,
 "nbformat_minor": 2
}
