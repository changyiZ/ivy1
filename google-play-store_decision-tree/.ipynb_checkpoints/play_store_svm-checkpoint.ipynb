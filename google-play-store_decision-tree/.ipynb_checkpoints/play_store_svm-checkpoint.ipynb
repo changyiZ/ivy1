{
 "cells": [
  {
   "cell_type": "markdown",
   "metadata": {},
   "source": [
    "# SVM on Google PlayStore Apps "
   ]
  },
  {
   "cell_type": "markdown",
   "metadata": {},
   "source": [
    "在上次的[作业](https://github.com/changyiZ/ivy1/blob/master/google-play-store_decision-tree/google_play_store_apps.ipynb)中，我应用决策树 **Decision Tree** 对 Google PlayStore 的数据集进行分析，<br>\n",
    "目标是想根据 App 的基本信息，按百万、千万级的分类对其下载量进行预测。"
   ]
  },
  {
   "cell_type": "markdown",
   "metadata": {},
   "source": [
    "#### **Decision Tree** 相关算法的准确率结果\n",
    "- DecisionTree 0.867619926199262\n",
    "- RandomForest 0.8906826568265682\n",
    "- AdaBoost 0.889760147601476"
   ]
  },
  {
   "cell_type": "markdown",
   "metadata": {},
   "source": [
    "这次作业中，我会通过 SVM 算法做对比，看看效率和准确率有什么变化，并尝试分析其原因。"
   ]
  },
  {
   "cell_type": "markdown",
   "metadata": {},
   "source": [
    "### 数据预处理"
   ]
  },
  {
   "cell_type": "markdown",
   "metadata": {},
   "source": [
    "#### 初始化"
   ]
  },
  {
   "cell_type": "code",
   "execution_count": 1,
   "metadata": {},
   "outputs": [],
   "source": [
    "import pandas as pd\n",
    "from sklearn import preprocessing, svm\n",
    "from sklearn.metrics import make_scorer, accuracy_score\n",
    "from sklearn.model_selection import train_test_split, GridSearchCV\n",
    "from sklearn.preprocessing import StandardScaler\n",
    "\n",
    "import warnings\n",
    "warnings.filterwarnings('ignore')"
   ]
  },
  {
   "cell_type": "markdown",
   "metadata": {},
   "source": [
    "#### 数据处理"
   ]
  },
  {
   "cell_type": "code",
   "execution_count": 2,
   "metadata": {},
   "outputs": [
    {
     "name": "stdout",
     "output_type": "stream",
     "text": [
      "Number of apps in the dataset :  10841\n"
     ]
    },
    {
     "data": {
      "text/html": [
       "<div>\n",
       "<style scoped>\n",
       "    .dataframe tbody tr th:only-of-type {\n",
       "        vertical-align: middle;\n",
       "    }\n",
       "\n",
       "    .dataframe tbody tr th {\n",
       "        vertical-align: top;\n",
       "    }\n",
       "\n",
       "    .dataframe thead th {\n",
       "        text-align: right;\n",
       "    }\n",
       "</style>\n",
       "<table border=\"1\" class=\"dataframe\">\n",
       "  <thead>\n",
       "    <tr style=\"text-align: right;\">\n",
       "      <th></th>\n",
       "      <th>App</th>\n",
       "      <th>Category</th>\n",
       "      <th>Rating</th>\n",
       "      <th>Reviews</th>\n",
       "      <th>Size</th>\n",
       "      <th>Installs</th>\n",
       "      <th>Type</th>\n",
       "      <th>Price</th>\n",
       "      <th>Content Rating</th>\n",
       "      <th>Genres</th>\n",
       "      <th>Last Updated</th>\n",
       "      <th>Current Ver</th>\n",
       "      <th>Android Ver</th>\n",
       "    </tr>\n",
       "  </thead>\n",
       "  <tbody>\n",
       "    <tr>\n",
       "      <th>9113</th>\n",
       "      <td>News Dz</td>\n",
       "      <td>SOCIAL</td>\n",
       "      <td>NaN</td>\n",
       "      <td>3</td>\n",
       "      <td>9.9M</td>\n",
       "      <td>10+</td>\n",
       "      <td>Free</td>\n",
       "      <td>0</td>\n",
       "      <td>Everyone</td>\n",
       "      <td>Social</td>\n",
       "      <td>July 19, 2017</td>\n",
       "      <td>1.0</td>\n",
       "      <td>4.0 and up</td>\n",
       "    </tr>\n",
       "    <tr>\n",
       "      <th>9907</th>\n",
       "      <td>E.U. Trademark Search Tool</td>\n",
       "      <td>BUSINESS</td>\n",
       "      <td>NaN</td>\n",
       "      <td>0</td>\n",
       "      <td>3.1M</td>\n",
       "      <td>10+</td>\n",
       "      <td>Free</td>\n",
       "      <td>0</td>\n",
       "      <td>Everyone</td>\n",
       "      <td>Business</td>\n",
       "      <td>March 29, 2018</td>\n",
       "      <td>1.5</td>\n",
       "      <td>4.0.3 and up</td>\n",
       "    </tr>\n",
       "    <tr>\n",
       "      <th>8609</th>\n",
       "      <td>Svenska Dagbladet</td>\n",
       "      <td>NEWS_AND_MAGAZINES</td>\n",
       "      <td>2.6</td>\n",
       "      <td>820</td>\n",
       "      <td>Varies with device</td>\n",
       "      <td>100,000+</td>\n",
       "      <td>Free</td>\n",
       "      <td>0</td>\n",
       "      <td>Everyone</td>\n",
       "      <td>News &amp; Magazines</td>\n",
       "      <td>February 13, 2018</td>\n",
       "      <td>Varies with device</td>\n",
       "      <td>Varies with device</td>\n",
       "    </tr>\n",
       "    <tr>\n",
       "      <th>10678</th>\n",
       "      <td>HAL-9000 - FN Theme</td>\n",
       "      <td>PERSONALIZATION</td>\n",
       "      <td>3.5</td>\n",
       "      <td>159</td>\n",
       "      <td>257k</td>\n",
       "      <td>10,000+</td>\n",
       "      <td>Free</td>\n",
       "      <td>0</td>\n",
       "      <td>Everyone</td>\n",
       "      <td>Personalization</td>\n",
       "      <td>August 16, 2013</td>\n",
       "      <td>1.0</td>\n",
       "      <td>2.2 and up</td>\n",
       "    </tr>\n",
       "    <tr>\n",
       "      <th>1516</th>\n",
       "      <td>Best New Ringtones 2018 Free 🔥 For Android™</td>\n",
       "      <td>LIBRARIES_AND_DEMO</td>\n",
       "      <td>4.6</td>\n",
       "      <td>3014</td>\n",
       "      <td>21M</td>\n",
       "      <td>100,000+</td>\n",
       "      <td>Free</td>\n",
       "      <td>0</td>\n",
       "      <td>Everyone</td>\n",
       "      <td>Libraries &amp; Demo</td>\n",
       "      <td>June 27, 2018</td>\n",
       "      <td>1.1</td>\n",
       "      <td>5.0 and up</td>\n",
       "    </tr>\n",
       "  </tbody>\n",
       "</table>\n",
       "</div>"
      ],
      "text/plain": [
       "                                               App            Category  \\\n",
       "9113                                       News Dz              SOCIAL   \n",
       "9907                    E.U. Trademark Search Tool            BUSINESS   \n",
       "8609                             Svenska Dagbladet  NEWS_AND_MAGAZINES   \n",
       "10678                          HAL-9000 - FN Theme     PERSONALIZATION   \n",
       "1516   Best New Ringtones 2018 Free 🔥 For Android™  LIBRARIES_AND_DEMO   \n",
       "\n",
       "       Rating Reviews                Size  Installs  Type Price  \\\n",
       "9113      NaN       3                9.9M       10+  Free     0   \n",
       "9907      NaN       0                3.1M       10+  Free     0   \n",
       "8609      2.6     820  Varies with device  100,000+  Free     0   \n",
       "10678     3.5     159                257k   10,000+  Free     0   \n",
       "1516      4.6    3014                 21M  100,000+  Free     0   \n",
       "\n",
       "      Content Rating            Genres       Last Updated         Current Ver  \\\n",
       "9113        Everyone            Social      July 19, 2017                 1.0   \n",
       "9907        Everyone          Business     March 29, 2018                 1.5   \n",
       "8609        Everyone  News & Magazines  February 13, 2018  Varies with device   \n",
       "10678       Everyone   Personalization    August 16, 2013                 1.0   \n",
       "1516        Everyone  Libraries & Demo      June 27, 2018                 1.1   \n",
       "\n",
       "              Android Ver  \n",
       "9113           4.0 and up  \n",
       "9907         4.0.3 and up  \n",
       "8609   Varies with device  \n",
       "10678          2.2 and up  \n",
       "1516           5.0 and up  "
      ]
     },
     "execution_count": 2,
     "metadata": {},
     "output_type": "execute_result"
    }
   ],
   "source": [
    "df = pd.read_csv('data/googleplaystore.csv')\n",
    "print('Number of apps in the dataset : ' , len(df))\n",
    "df.sample(5)"
   ]
  },
  {
   "cell_type": "code",
   "execution_count": 3,
   "metadata": {},
   "outputs": [],
   "source": [
    "df['Rating'] = df['Rating'].fillna(df['Rating'].median())\n",
    "index = df[df['Rating'] == 19.].index\n",
    "df = df.drop(index)\n",
    "\n",
    "df = df[pd.notnull(df['Last Updated'])]\n",
    "df = df[pd.notnull(df['Content Rating'])]"
   ]
  },
  {
   "cell_type": "code",
   "execution_count": 4,
   "metadata": {},
   "outputs": [],
   "source": [
    "def map_content_rating(content_rating):\n",
    "    if 'Teen' in content_rating:\n",
    "        return 1\n",
    "    elif 'Everyone 10+' in content_rating:\n",
    "        return 2\n",
    "    elif 'Mature 17+' in content_rating:\n",
    "        return 3\n",
    "    elif 'Adults only 18+' in content_rating:\n",
    "        return 4\n",
    "    else:\n",
    "        return 0\n",
    "\n",
    "\n",
    "# Encode Content Rating features\n",
    "df['Content Rating'] = df['Content Rating'].map(map_content_rating)"
   ]
  },
  {
   "cell_type": "code",
   "execution_count": 5,
   "metadata": {},
   "outputs": [],
   "source": [
    "df['Size'] = df['Size'].apply(lambda x: str(x).replace('Varies with device', 'NaN') if 'Varies with device' in str(x) else x)\n",
    "df['Size'] = df['Size'].apply(lambda x: str(x).replace('M', '') if 'M' in str(x) else x)\n",
    "df['Size'] = df['Size'].apply(lambda x: str(x).replace(',', '') if 'M' in str(x) else x)\n",
    "df['Size'] = df['Size'].apply(lambda x: float(str(x).replace('k', '')) / 1000 if 'k' in str(x) else x)\n",
    "df['Size'] = df['Size'].apply(lambda x: float(x))\n",
    "df['Size'] = df['Size'].fillna(df['Size'].mean())\n",
    "\n",
    "\n",
    "def map_size(size):\n",
    "    if size < 5.0:\n",
    "        return 1\n",
    "    elif size < 10.0:\n",
    "        return 2\n",
    "    elif size < 20.0:\n",
    "        return 3\n",
    "    elif size < 50.0:\n",
    "        return 4\n",
    "    elif size < 100.0:\n",
    "        return 5\n",
    "    else:\n",
    "        return 6\n",
    "\n",
    "\n",
    "df['Size'] = df['Size'].map(map_size)\n",
    "\n",
    "\n",
    "def map_reviews(number):\n",
    "    number = int(number)\n",
    "    if number < 10:\n",
    "        return 1\n",
    "    elif number < 100:\n",
    "        return 2\n",
    "    elif number < 1000:\n",
    "        return 3\n",
    "    elif number < 10000:\n",
    "        return 4\n",
    "    elif number < 100000:\n",
    "        return 5\n",
    "    elif number < 1000000:\n",
    "        return 6\n",
    "    elif number < 10000000:\n",
    "        return 7\n",
    "    else:\n",
    "        return 8\n",
    "\n",
    "\n",
    "df['Reviews'] = df['Reviews'].map(map_reviews)"
   ]
  },
  {
   "cell_type": "code",
   "execution_count": 6,
   "metadata": {},
   "outputs": [],
   "source": [
    "# scaling and cleaning size of installation\n",
    "def map_version(version):\n",
    "    version = str(version)\n",
    "    if version.startswith(\"1.\"):\n",
    "        return 1\n",
    "    elif version.startswith(\"2.\"):\n",
    "        return 2\n",
    "    elif version.startswith(\"3.\"):\n",
    "        return 3\n",
    "    elif version.startswith(\"4.\"):\n",
    "        return 4\n",
    "    elif version.startswith(\"5.\"):\n",
    "        return 5\n",
    "    elif version.startswith(\"6.\"):\n",
    "        return 6\n",
    "    elif version.startswith(\"7.\"):\n",
    "        return 7\n",
    "    elif version.startswith(\"8.\"):\n",
    "        return 8\n",
    "    else:\n",
    "        return 0\n",
    "\n",
    "\n",
    "df['Android Ver'] = df['Android Ver'].map(map_version)"
   ]
  },
  {
   "cell_type": "code",
   "execution_count": 7,
   "metadata": {},
   "outputs": [],
   "source": [
    "df['Price'] = df['Price'].apply(lambda x: x.strip('$'))\n",
    "\n",
    "\n",
    "def map_price(price):\n",
    "    price = float(price)\n",
    "    if price > 10.0:\n",
    "        return 2\n",
    "    elif price > 0.0:\n",
    "        return 1\n",
    "    else:\n",
    "        return 0\n",
    "\n",
    "\n",
    "df['Price'] = df['Price'].map(map_price)\n",
    "\n",
    "# Encode Category features\n",
    "le = preprocessing.LabelEncoder()\n",
    "df['Category'] = le.fit_transform(df['Category'])"
   ]
  },
  {
   "cell_type": "code",
   "execution_count": 8,
   "metadata": {},
   "outputs": [],
   "source": [
    "def map_installs(number):\n",
    "    number = int(number)\n",
    "    if number < 1000000:\n",
    "        return 0\n",
    "    elif number < 10000000:\n",
    "        return 1\n",
    "    else:\n",
    "        return 2\n",
    "\n",
    "\n",
    "# Installs cealning\n",
    "df['Installs'] = df['Installs'].apply(lambda x: x.strip('+').replace(',', ''))\n",
    "df['Installs'] = df['Installs'].map(map_installs)"
   ]
  },
  {
   "cell_type": "markdown",
   "metadata": {},
   "source": [
    "以上数据预处理方式基本与 DT 作业中一致，这里就不做累述。"
   ]
  },
  {
   "cell_type": "markdown",
   "metadata": {},
   "source": [
    "#### 准备数据集"
   ]
  },
  {
   "cell_type": "code",
   "execution_count": 9,
   "metadata": {},
   "outputs": [],
   "source": [
    "X_all = df.drop(['Installs', 'App', 'Last Updated', 'Type', 'Current Ver', 'Genres'], axis=1)\n",
    "y_all = df['Installs']"
   ]
  },
  {
   "cell_type": "code",
   "execution_count": 10,
   "metadata": {},
   "outputs": [
    {
     "data": {
      "text/html": [
       "<div>\n",
       "<style scoped>\n",
       "    .dataframe tbody tr th:only-of-type {\n",
       "        vertical-align: middle;\n",
       "    }\n",
       "\n",
       "    .dataframe tbody tr th {\n",
       "        vertical-align: top;\n",
       "    }\n",
       "\n",
       "    .dataframe thead th {\n",
       "        text-align: right;\n",
       "    }\n",
       "</style>\n",
       "<table border=\"1\" class=\"dataframe\">\n",
       "  <thead>\n",
       "    <tr style=\"text-align: right;\">\n",
       "      <th></th>\n",
       "      <th>Category</th>\n",
       "      <th>Rating</th>\n",
       "      <th>Reviews</th>\n",
       "      <th>Size</th>\n",
       "      <th>Price</th>\n",
       "      <th>Content Rating</th>\n",
       "      <th>Android Ver</th>\n",
       "    </tr>\n",
       "  </thead>\n",
       "  <tbody>\n",
       "    <tr>\n",
       "      <th>595</th>\n",
       "      <td>7</td>\n",
       "      <td>4.1</td>\n",
       "      <td>4</td>\n",
       "      <td>3</td>\n",
       "      <td>0</td>\n",
       "      <td>3</td>\n",
       "      <td>4</td>\n",
       "    </tr>\n",
       "    <tr>\n",
       "      <th>3359</th>\n",
       "      <td>23</td>\n",
       "      <td>4.5</td>\n",
       "      <td>6</td>\n",
       "      <td>3</td>\n",
       "      <td>0</td>\n",
       "      <td>0</td>\n",
       "      <td>5</td>\n",
       "    </tr>\n",
       "    <tr>\n",
       "      <th>7773</th>\n",
       "      <td>25</td>\n",
       "      <td>3.7</td>\n",
       "      <td>4</td>\n",
       "      <td>4</td>\n",
       "      <td>0</td>\n",
       "      <td>0</td>\n",
       "      <td>4</td>\n",
       "    </tr>\n",
       "    <tr>\n",
       "      <th>8401</th>\n",
       "      <td>14</td>\n",
       "      <td>4.2</td>\n",
       "      <td>4</td>\n",
       "      <td>4</td>\n",
       "      <td>0</td>\n",
       "      <td>1</td>\n",
       "      <td>3</td>\n",
       "    </tr>\n",
       "    <tr>\n",
       "      <th>379</th>\n",
       "      <td>6</td>\n",
       "      <td>3.7</td>\n",
       "      <td>5</td>\n",
       "      <td>5</td>\n",
       "      <td>0</td>\n",
       "      <td>0</td>\n",
       "      <td>4</td>\n",
       "    </tr>\n",
       "    <tr>\n",
       "      <th>7665</th>\n",
       "      <td>14</td>\n",
       "      <td>3.5</td>\n",
       "      <td>2</td>\n",
       "      <td>4</td>\n",
       "      <td>1</td>\n",
       "      <td>0</td>\n",
       "      <td>4</td>\n",
       "    </tr>\n",
       "    <tr>\n",
       "      <th>4966</th>\n",
       "      <td>11</td>\n",
       "      <td>4.5</td>\n",
       "      <td>3</td>\n",
       "      <td>4</td>\n",
       "      <td>0</td>\n",
       "      <td>0</td>\n",
       "      <td>4</td>\n",
       "    </tr>\n",
       "    <tr>\n",
       "      <th>5646</th>\n",
       "      <td>14</td>\n",
       "      <td>4.7</td>\n",
       "      <td>4</td>\n",
       "      <td>4</td>\n",
       "      <td>0</td>\n",
       "      <td>0</td>\n",
       "      <td>2</td>\n",
       "    </tr>\n",
       "    <tr>\n",
       "      <th>4938</th>\n",
       "      <td>24</td>\n",
       "      <td>4.8</td>\n",
       "      <td>3</td>\n",
       "      <td>1</td>\n",
       "      <td>1</td>\n",
       "      <td>0</td>\n",
       "      <td>4</td>\n",
       "    </tr>\n",
       "    <tr>\n",
       "      <th>9725</th>\n",
       "      <td>11</td>\n",
       "      <td>3.9</td>\n",
       "      <td>3</td>\n",
       "      <td>4</td>\n",
       "      <td>0</td>\n",
       "      <td>0</td>\n",
       "      <td>2</td>\n",
       "    </tr>\n",
       "    <tr>\n",
       "      <th>5892</th>\n",
       "      <td>12</td>\n",
       "      <td>3.5</td>\n",
       "      <td>3</td>\n",
       "      <td>3</td>\n",
       "      <td>0</td>\n",
       "      <td>0</td>\n",
       "      <td>4</td>\n",
       "    </tr>\n",
       "    <tr>\n",
       "      <th>1761</th>\n",
       "      <td>14</td>\n",
       "      <td>4.5</td>\n",
       "      <td>6</td>\n",
       "      <td>4</td>\n",
       "      <td>0</td>\n",
       "      <td>0</td>\n",
       "      <td>4</td>\n",
       "    </tr>\n",
       "    <tr>\n",
       "      <th>736</th>\n",
       "      <td>8</td>\n",
       "      <td>4.7</td>\n",
       "      <td>6</td>\n",
       "      <td>4</td>\n",
       "      <td>0</td>\n",
       "      <td>0</td>\n",
       "      <td>4</td>\n",
       "    </tr>\n",
       "    <tr>\n",
       "      <th>686</th>\n",
       "      <td>7</td>\n",
       "      <td>4.7</td>\n",
       "      <td>3</td>\n",
       "      <td>1</td>\n",
       "      <td>0</td>\n",
       "      <td>3</td>\n",
       "      <td>4</td>\n",
       "    </tr>\n",
       "    <tr>\n",
       "      <th>5627</th>\n",
       "      <td>11</td>\n",
       "      <td>4.6</td>\n",
       "      <td>5</td>\n",
       "      <td>4</td>\n",
       "      <td>1</td>\n",
       "      <td>1</td>\n",
       "      <td>2</td>\n",
       "    </tr>\n",
       "    <tr>\n",
       "      <th>2466</th>\n",
       "      <td>20</td>\n",
       "      <td>4.3</td>\n",
       "      <td>1</td>\n",
       "      <td>3</td>\n",
       "      <td>0</td>\n",
       "      <td>0</td>\n",
       "      <td>4</td>\n",
       "    </tr>\n",
       "    <tr>\n",
       "      <th>9199</th>\n",
       "      <td>10</td>\n",
       "      <td>4.3</td>\n",
       "      <td>1</td>\n",
       "      <td>4</td>\n",
       "      <td>0</td>\n",
       "      <td>1</td>\n",
       "      <td>3</td>\n",
       "    </tr>\n",
       "    <tr>\n",
       "      <th>5394</th>\n",
       "      <td>14</td>\n",
       "      <td>4.3</td>\n",
       "      <td>6</td>\n",
       "      <td>3</td>\n",
       "      <td>0</td>\n",
       "      <td>0</td>\n",
       "      <td>4</td>\n",
       "    </tr>\n",
       "    <tr>\n",
       "      <th>2757</th>\n",
       "      <td>26</td>\n",
       "      <td>4.1</td>\n",
       "      <td>5</td>\n",
       "      <td>4</td>\n",
       "      <td>0</td>\n",
       "      <td>0</td>\n",
       "      <td>4</td>\n",
       "    </tr>\n",
       "    <tr>\n",
       "      <th>7371</th>\n",
       "      <td>4</td>\n",
       "      <td>4.3</td>\n",
       "      <td>1</td>\n",
       "      <td>1</td>\n",
       "      <td>0</td>\n",
       "      <td>0</td>\n",
       "      <td>4</td>\n",
       "    </tr>\n",
       "  </tbody>\n",
       "</table>\n",
       "</div>"
      ],
      "text/plain": [
       "      Category  Rating  Reviews  Size  Price  Content Rating  Android Ver\n",
       "595          7     4.1        4     3      0               3            4\n",
       "3359        23     4.5        6     3      0               0            5\n",
       "7773        25     3.7        4     4      0               0            4\n",
       "8401        14     4.2        4     4      0               1            3\n",
       "379          6     3.7        5     5      0               0            4\n",
       "7665        14     3.5        2     4      1               0            4\n",
       "4966        11     4.5        3     4      0               0            4\n",
       "5646        14     4.7        4     4      0               0            2\n",
       "4938        24     4.8        3     1      1               0            4\n",
       "9725        11     3.9        3     4      0               0            2\n",
       "5892        12     3.5        3     3      0               0            4\n",
       "1761        14     4.5        6     4      0               0            4\n",
       "736          8     4.7        6     4      0               0            4\n",
       "686          7     4.7        3     1      0               3            4\n",
       "5627        11     4.6        5     4      1               1            2\n",
       "2466        20     4.3        1     3      0               0            4\n",
       "9199        10     4.3        1     4      0               1            3\n",
       "5394        14     4.3        6     3      0               0            4\n",
       "2757        26     4.1        5     4      0               0            4\n",
       "7371         4     4.3        1     1      0               0            4"
      ]
     },
     "execution_count": 10,
     "metadata": {},
     "output_type": "execute_result"
    }
   ],
   "source": [
    "X_all.sample(20)"
   ]
  },
  {
   "cell_type": "code",
   "execution_count": 11,
   "metadata": {},
   "outputs": [],
   "source": [
    "X_train, X_test, y_train, y_test = train_test_split(X_all, y_all, test_size=0.20, random_state=10)"
   ]
  },
  {
   "cell_type": "markdown",
   "metadata": {},
   "source": [
    "### SVM 分类"
   ]
  },
  {
   "cell_type": "code",
   "execution_count": 12,
   "metadata": {},
   "outputs": [
    {
     "name": "stdout",
     "output_type": "stream",
     "text": [
      "Best parameters set found on development set:\n",
      "{'C': 1}\n",
      "linear 0.8948339483394834\n",
      "Best parameters set found on development set:\n",
      "{'C': 10, 'gamma': 0.01}\n",
      "rbf 0.8943726937269373\n"
     ]
    }
   ],
   "source": [
    "def svm_cv(kernel, params):\n",
    "    # Type of scoring used to compare parameter combinations\n",
    "    acc_scorer = make_scorer(accuracy_score)\n",
    "    clf = GridSearchCV(svm.SVC(kernel=kernel), params, scoring=acc_scorer)\n",
    "    clf.fit(X_train, y_train)\n",
    "\n",
    "    print(\"Best parameters set found on development set:\")\n",
    "    print(clf.best_params_)\n",
    "\n",
    "    # Set the clf to the best combination of parameters\n",
    "    clf = clf.best_estimator_\n",
    "    predictions = clf.predict(X_test)\n",
    "    print(kernel, accuracy_score(y_test, predictions))\n",
    "\n",
    "\n",
    "# Set the parameters by cross-validation\n",
    "Cs = [0.001, 0.01, 0.1, 1, 10]\n",
    "gammas = [0.001, 0.01, 0.1, 1]\n",
    "degrees = [0, 1, 2, 3, 4, 5, 6]\n",
    "\n",
    "svm_cv('linear', [{'C': Cs}])\n",
    "svm_cv('rbf', [{'gamma': gammas, 'C': Cs}])"
   ]
  },
  {
   "cell_type": "markdown",
   "metadata": {},
   "source": [
    "可以看出，通过利用 GridSearchCV 优化调参后，**SVM** 不同 kernel 的准确率相比 **Decision Tree**有所提升，但并不明显。 "
   ]
  },
  {
   "cell_type": "markdown",
   "metadata": {},
   "source": [
    "不过运行时间相比 **DT** 却有很大的提升，<br>\n",
    "*poly* 内核的运行时由于过长，这里仅贴上运行结果截图"
   ]
  },
  {
   "cell_type": "markdown",
   "metadata": {},
   "source": [
    "![SVM poly result](svm_poly_results.png)"
   ]
  },
  {
   "cell_type": "markdown",
   "metadata": {},
   "source": [
    "可以看出三种内核在最优参数下的准确率都在 89.48% 左右。"
   ]
  },
  {
   "cell_type": "markdown",
   "metadata": {},
   "source": [
    "### 调优"
   ]
  },
  {
   "cell_type": "markdown",
   "metadata": {},
   "source": [
    "考虑到 SVM 的特性，这里我尝试通过 **Feature Scaling** 对数据进一步处理，以提高准确率。"
   ]
  },
  {
   "cell_type": "code",
   "execution_count": 13,
   "metadata": {},
   "outputs": [
    {
     "name": "stdout",
     "output_type": "stream",
     "text": [
      "origin: \n",
      "      Category  Rating  Reviews  Size  Price  Content Rating  Android Ver\n",
      "8320        25     4.2        6     4      0               0            0\n",
      "5337        15     4.3        3     4      0               0            0\n",
      "6871        18     4.3        1     1      0               0            4\n",
      "8253        11     4.3        6     5      0               0            4\n",
      "995          9     4.6        4     4      1               0            0\n",
      "scaled: \n",
      "             0         1         2         3         4         5         6\n",
      "4319 -0.326277  1.027490 -0.389908  0.736706 -0.270816  2.204360  0.489626\n",
      "8981  0.511753  0.611101 -0.389908  0.736706 -0.270816 -0.430905  0.489626\n",
      "5269  0.751190  0.194712 -1.453070  0.736706  3.031369 -0.430905  0.489626\n",
      "4796  1.708938  0.194712  1.204835  0.736706 -0.270816  0.886728 -2.181510\n",
      "751  -1.044589 -0.221677  0.673254  0.736706 -0.270816 -0.430905 -2.181510\n"
     ]
    }
   ],
   "source": [
    "print('origin: ')\n",
    "print(X_all.sample(5))\n",
    "x_scaled = StandardScaler().fit_transform(X_all.values)\n",
    "X_all = pd.DataFrame(x_scaled)\n",
    "print('scaled: ')\n",
    "print(X_all.sample(5))\n",
    "\n",
    "X_train, X_test, y_train, y_test = train_test_split(X_all, y_all, test_size=0.20, random_state=10)"
   ]
  },
  {
   "cell_type": "code",
   "execution_count": 14,
   "metadata": {},
   "outputs": [
    {
     "name": "stdout",
     "output_type": "stream",
     "text": [
      "Best parameters set found on development set:\n",
      "{'C': 0.1}\n",
      "linear 0.8948339483394834\n",
      "Best parameters set found on development set:\n",
      "{'C': 10, 'gamma': 0.01}\n",
      "rbf 0.8948339483394834\n",
      "Best parameters set found on development set:\n",
      "{'degree': 1}\n",
      "poly 0.8948339483394834\n"
     ]
    }
   ],
   "source": [
    "svm_cv('linear', [{'C': Cs}])\n",
    "svm_cv('rbf', [{'gamma': gammas, 'C': Cs}])\n",
    "svm_cv('poly', [{'degree': degrees}])"
   ]
  },
  {
   "cell_type": "markdown",
   "metadata": {},
   "source": [
    "### 思考"
   ]
  },
  {
   "cell_type": "markdown",
   "metadata": {},
   "source": [
    "相对于**Decision Tree**， **SVM**的算法在准确率上有微弱的提升，这可能 **SVM** 通过内核变化坐标的特性有关，<br>\n",
    "但随之带来的是耗时的巨大开销，相比之下 **RandomForest** 显得性价比很高 - 准确率相当且时间开销少。<br>\n",
    "**Feature Scaling** 处理后 **SVM** 的处理效率有显著提升，但准确率并没有得到提升。<br>\n",
    "最终，通过**DT** 和 **SVM**算法，结合基本信息，对 App 下载量的预测准确率接近 90%，未来希望有机会通过数据采集的进一步优化将准确率提升到 95%以上，从而能比较自信的应用到响应数据增长策略中。"
   ]
  },
  {
   "cell_type": "code",
   "execution_count": null,
   "metadata": {},
   "outputs": [],
   "source": []
  }
 ],
 "metadata": {
  "kernelspec": {
   "display_name": "Python 3",
   "language": "python",
   "name": "python3"
  },
  "language_info": {
   "codemirror_mode": {
    "name": "ipython",
    "version": 3
   },
   "file_extension": ".py",
   "mimetype": "text/x-python",
   "name": "python",
   "nbconvert_exporter": "python",
   "pygments_lexer": "ipython3",
   "version": "3.6.7"
  }
 },
 "nbformat": 4,
 "nbformat_minor": 2
}
