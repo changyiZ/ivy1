{
 "cells": [
  {
   "cell_type": "markdown",
   "metadata": {},
   "source": [
    "# 20 NewsGroups - Classify by Scikit-learn"
   ]
  },
  {
   "cell_type": "markdown",
   "metadata": {},
   "source": [
    "应用 scikit-learn 对 20 newsgroups 进行处理实验。"
   ]
  },
  {
   "cell_type": "markdown",
   "metadata": {},
   "source": [
    "### 初始化工程"
   ]
  },
  {
   "cell_type": "code",
   "execution_count": 1,
   "metadata": {},
   "outputs": [
    {
     "name": "stderr",
     "output_type": "stream",
     "text": [
      "/anaconda3/lib/python3.7/site-packages/sklearn/ensemble/weight_boosting.py:29: DeprecationWarning: numpy.core.umath_tests is an internal NumPy module and should not be imported. It will be removed in a future NumPy release.\n",
      "  from numpy.core.umath_tests import inner1d\n"
     ]
    }
   ],
   "source": [
    "import datetime\n",
    "import numpy as np\n",
    "from nltk.stem.snowball import EnglishStemmer\n",
    "from sklearn.datasets import fetch_20newsgroups\n",
    "from sklearn.ensemble import AdaBoostClassifier\n",
    "from sklearn.ensemble import RandomForestClassifier\n",
    "from sklearn.feature_extraction.text import TfidfVectorizer\n",
    "from sklearn.naive_bayes import MultinomialNB\n",
    "from sklearn.neighbors import KNeighborsClassifier\n",
    "from sklearn.pipeline import Pipeline\n",
    "from sklearn.tree import DecisionTreeClassifier"
   ]
  },
  {
   "cell_type": "markdown",
   "metadata": {},
   "source": [
    "### 通过 Sklearn 的 API 获取数据集\n",
    "这里我们先让 Training Set 和 Test Set 使用同一份数据集，看看算法的效果。\n",
    "\n",
    "此外，我去除了邮件的头，尾以及引用内容对数据集的影响。"
   ]
  },
  {
   "cell_type": "code",
   "execution_count": 4,
   "metadata": {},
   "outputs": [
    {
     "name": "stdout",
     "output_type": "stream",
     "text": [
      "11314 11314\n"
     ]
    }
   ],
   "source": [
    "newsgroups_train = fetch_20newsgroups(subset='train',\n",
    "                                      remove=('headers', 'footers', 'quotes'))\n",
    "newsgroups_test = fetch_20newsgroups(subset='train',\n",
    "                                     remove=('headers', 'footers', 'quotes'))\n",
    "\n",
    "train_texts = newsgroups_train['data']\n",
    "train_labels = newsgroups_train['target']\n",
    "test_texts = newsgroups_test['data']\n",
    "test_labels = newsgroups_test['target']\n",
    "print(len(train_texts), len(test_texts))"
   ]
  },
  {
   "cell_type": "markdown",
   "metadata": {},
   "source": [
    "### 定义分类器的操作封装\n",
    "#### 执行对应的分类算法并打印出对应耗时和准确率\n",
    "其中， classifier 将传入对应的算法，这里我们通过 TfidfVectorizer 来实现文本数据集的预处理。\n",
    "TfidfVectorizer 是在对数据进行计数式矢量化（CountVectorizer）基础上再通过 Tf–idf term weighting 处理，从而消除一些无意义却经常出现的单词对特征提取的影响。\n",
    "\n",
    "关于文本数据采集和处理的详细解释参见： https://scikit-learn.org/stable/modules/feature_extraction.html#text-feature-extraction"
   ]
  },
  {
   "cell_type": "code",
   "execution_count": 6,
   "metadata": {},
   "outputs": [],
   "source": [
    "def do_classify(tag, classifier, vectorizer=TfidfVectorizer()):\n",
    "    text_clf = Pipeline([('tfidf', vectorizer),\n",
    "                         (tag, classifier)])\n",
    "    print(tag + \" start...\")\n",
    "    start_time = datetime.datetime.now()\n",
    "    text_clf = text_clf.fit(train_texts, train_labels)\n",
    "    end_time = datetime.datetime.now()\n",
    "    print(\"   training time: \" + str(end_time - start_time))\n",
    "    predicted = text_clf.predict(test_texts)\n",
    "    end_time = datetime.datetime.now()\n",
    "    print(\"   classification time: \" + str(end_time - start_time))\n",
    "    print(\"   accuracy: \", np.mean(predicted == test_labels))"
   ]
  },
  {
   "cell_type": "markdown",
   "metadata": {},
   "source": [
    "### Naive Bayes 和 K-Nearest Neighbors classifier  的处理结果 "
   ]
  },
  {
   "cell_type": "code",
   "execution_count": 7,
   "metadata": {},
   "outputs": [
    {
     "name": "stdout",
     "output_type": "stream",
     "text": [
      "MultinomialNB start...\n",
      "   training time: 0:00:03.205695\n",
      "   classification time: 0:00:05.598349\n",
      "   accuracy:  0.8113841258617642\n",
      "KNeighborsClassifier start...\n",
      "   training time: 0:00:02.827368\n",
      "   classification time: 0:00:18.535705\n",
      "   accuracy:  0.372812444758706\n"
     ]
    }
   ],
   "source": [
    "do_classify(\"MultinomialNB\", MultinomialNB())\n",
    "do_classify(\"KNeighborsClassifier\", KNeighborsClassifier())"
   ]
  },
  {
   "cell_type": "markdown",
   "metadata": {},
   "source": [
    "可以看出 KNN 的结果比较差，单纯的使用该算法并不太适合当前的场景。\n",
    "NB 的结果还可以（81.1%），但也不是很好。"
   ]
  },
  {
   "cell_type": "markdown",
   "metadata": {},
   "source": [
    "### 将测试数据集区分于训练数据集的结果"
   ]
  },
  {
   "cell_type": "code",
   "execution_count": 9,
   "metadata": {},
   "outputs": [
    {
     "name": "stdout",
     "output_type": "stream",
     "text": [
      "MultinomialNB start...\n",
      "   training time: 0:00:02.450610\n",
      "   classification time: 0:00:03.787500\n",
      "   accuracy:  0.6062134891131173\n",
      "KNeighborsClassifier start...\n",
      "   training time: 0:00:02.480272\n",
      "   classification time: 0:00:10.907317\n",
      "   accuracy:  0.07992565055762081\n"
     ]
    }
   ],
   "source": [
    "newsgroups_test = fetch_20newsgroups(subset='test',\n",
    "                                     remove=('headers', 'footers', 'quotes'))\n",
    "test_texts = newsgroups_test['data']\n",
    "test_labels = newsgroups_test['target']\n",
    "\n",
    "do_classify(\"MultinomialNB\", MultinomialNB())\n",
    "do_classify(\"KNeighborsClassifier\", KNeighborsClassifier())"
   ]
  },
  {
   "cell_type": "markdown",
   "metadata": {},
   "source": [
    "可以看出，使用相同的数据集进行训练和预测的结果跟实际场景可能会有一些冲突（下降）。\n",
    "这里应该是因为分类算法对训练数据的 overfitting 或者是数据集本身不够充分，从而造成了在结果的不理想。"
   ]
  },
  {
   "cell_type": "markdown",
   "metadata": {},
   "source": [
    "### 将数据的全集作为训练集的结果"
   ]
  },
  {
   "cell_type": "code",
   "execution_count": 10,
   "metadata": {},
   "outputs": [
    {
     "name": "stdout",
     "output_type": "stream",
     "text": [
      "MultinomialNB start...\n",
      "   training time: 0:00:03.930140\n",
      "   classification time: 0:00:05.294939\n",
      "   accuracy:  0.7885023898035051\n",
      "KNeighborsClassifier start...\n",
      "   training time: 0:00:03.729825\n",
      "   classification time: 0:00:19.912452\n",
      "   accuracy:  0.37041954328199683\n"
     ]
    }
   ],
   "source": [
    "newsgroups_train = fetch_20newsgroups(subset='all',\n",
    "                                      remove=('headers', 'footers', 'quotes'))\n",
    "train_texts = newsgroups_train['data']\n",
    "train_labels = newsgroups_train['target']\n",
    "\n",
    "do_classify(\"MultinomialNB\", MultinomialNB())\n",
    "do_classify(\"KNeighborsClassifier\", KNeighborsClassifier())"
   ]
  },
  {
   "cell_type": "markdown",
   "metadata": {},
   "source": [
    "NB 的结果稍有些改观，这里我觉得，近似可以认为是训练数据集的充分优化了结果。\n",
    "同时也可以看出 KNN 在结果不令人满意的同时，预测耗时也相比 NB 会多很多。"
   ]
  },
  {
   "cell_type": "markdown",
   "metadata": {},
   "source": [
    "### 一些其他算法的处理结果"
   ]
  },
  {
   "cell_type": "code",
   "execution_count": 11,
   "metadata": {},
   "outputs": [
    {
     "name": "stdout",
     "output_type": "stream",
     "text": [
      "RandomForestClassifier start...\n",
      "   training time: 0:00:19.849521\n",
      "   classification time: 0:00:21.338131\n",
      "   accuracy:  0.9641529474243229\n",
      "AdaBoostClassifier start...\n",
      "   training time: 0:00:20.527629\n",
      "   classification time: 0:00:22.147604\n",
      "   accuracy:  0.3898035050451407\n",
      "DecisionTreeClassifier start...\n",
      "   training time: 0:00:53.043192\n",
      "   classification time: 0:00:54.354173\n",
      "   accuracy:  0.9726500265533723\n"
     ]
    }
   ],
   "source": [
    "do_classify(\"RandomForestClassifier\", RandomForestClassifier(n_estimators=8))\n",
    "do_classify(\"AdaBoostClassifier\", AdaBoostClassifier())\n",
    "do_classify(\"DecisionTreeClassifier\", DecisionTreeClassifier())"
   ]
  },
  {
   "cell_type": "markdown",
   "metadata": {},
   "source": [
    "可以看出（新学的）RandomForest 和 DecisionTree 的结果还是比较令人满意的！"
   ]
  },
  {
   "cell_type": "markdown",
   "metadata": {},
   "source": [
    "### 对单词进行 stopwords 和 stemming 预处理后的结果"
   ]
  },
  {
   "cell_type": "code",
   "execution_count": 12,
   "metadata": {},
   "outputs": [
    {
     "name": "stdout",
     "output_type": "stream",
     "text": [
      "MultinomialNB start...\n",
      "   training time: 0:01:12.378044\n",
      "   classification time: 0:01:39.451199\n",
      "   accuracy:  0.772437599575146\n",
      "KNeighborsClassifier start...\n",
      "   training time: 0:01:10.976910\n",
      "   classification time: 0:01:52.478407\n",
      "   accuracy:  0.41117896972915563\n",
      "RandomForestClassifier start...\n",
      "   training time: 0:01:28.230731\n",
      "   classification time: 0:01:54.683303\n",
      "   accuracy:  0.9646840148698885\n",
      "AdaBoostClassifier start...\n",
      "   training time: 0:01:31.417845\n",
      "   classification time: 0:01:57.831992\n",
      "   accuracy:  0.4171534784917685\n",
      "DecisionTreeClassifier start...\n",
      "   training time: 0:01:54.033363\n",
      "   classification time: 0:02:19.589413\n",
      "   accuracy:  0.9725172596919809\n"
     ]
    }
   ],
   "source": [
    "stemmer = EnglishStemmer()\n",
    "analyzer = TfidfVectorizer().build_analyzer()\n",
    "\n",
    "\n",
    "def stemmed_words(doc):\n",
    "    return (stemmer.stem(w) for w in analyzer(doc))\n",
    "\n",
    "\n",
    "vectorizer = TfidfVectorizer(stop_words=\"english\", analyzer=stemmed_words)\n",
    "do_classify(\"MultinomialNB\", MultinomialNB(), vectorizer)\n",
    "do_classify(\"KNeighborsClassifier\", KNeighborsClassifier(), vectorizer)\n",
    "\n",
    "do_classify(\"RandomForestClassifier\", RandomForestClassifier(n_estimators=8), vectorizer)\n",
    "do_classify(\"AdaBoostClassifier\", AdaBoostClassifier(), vectorizer)\n",
    "do_classify(\"DecisionTreeClassifier\", DecisionTreeClassifier(), vectorizer)"
   ]
  },
  {
   "cell_type": "markdown",
   "metadata": {},
   "source": [
    "可以看出，加入 stopwords 和 stemming 的环节后耗时有了巨大的提高，但结果并没有明显的改善。\n",
    "\n",
    "可能是受 stopwords 和 stemming 本身算法的准确性影响，最终的效果并没有发挥出来。"
   ]
  },
  {
   "cell_type": "markdown",
   "metadata": {},
   "source": [
    "### 展望"
   ]
  },
  {
   "cell_type": "markdown",
   "metadata": {},
   "source": [
    "目前，我只是采用单兵作战的方式对各个算法单独使用。\n",
    "\n",
    "后续可以尝试组合的方式看看识别率会不会提高，或者采用深度学习的方式看看结果。"
   ]
  },
  {
   "cell_type": "code",
   "execution_count": null,
   "metadata": {},
   "outputs": [],
   "source": []
  }
 ],
 "metadata": {
  "kernelspec": {
   "display_name": "Python 3",
   "language": "python",
   "name": "python3"
  },
  "language_info": {
   "codemirror_mode": {
    "name": "ipython",
    "version": 3
   },
   "file_extension": ".py",
   "mimetype": "text/x-python",
   "name": "python",
   "nbconvert_exporter": "python",
   "pygments_lexer": "ipython3",
   "version": "3.7.0"
  }
 },
 "nbformat": 4,
 "nbformat_minor": 2
}
